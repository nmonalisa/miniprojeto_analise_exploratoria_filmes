{
 "cells": [
  {
   "cell_type": "markdown",
   "id": "c701da48",
   "metadata": {},
   "source": [
    "\n",
    "## Mini-projeto de análise exploratória de dados com Python e SQLite\n",
    "\n",
    "\n",
    "O objetivo deste pequeno projeto é adquirir noções básicas de análises exploratórias de dados consumindo dados de um banco, uma prática fundamental para qualquer cientista de dados. Para isso usei as linguagens Python e SQL e o banco de dados SQLite. Trata-se de um projeto que explora uma base de dados real e pública (IMDB Datasets) sobre produções e filmes para responder algumas perguntas interessantes sobre o assunto:\n",
    "\n",
    "- 1 - Quais as categorias de produção mais comuns no IMBD?\n",
    "- 2 - Qual é o número de títulos de filmes por gênero?\n",
    "- 3 - Qual é a mediana das notas de avaliação por gênero de filme?\n",
    "- 4 - Qual é a nota média geral dos filmes em relação ao ano de estréia??\n",
    "- 5 - Qual é o número de filmes estreiando nos principais gêneros ao longo do tempo?\n",
    "- 6 - Qual o filme com maior tempo de duração e como os filmes estão distribuídos em relação à duração?\n",
    "- 7 - Qual é a relação entre o gênero e a duração dos filmes?\n",
    "- 8 - Qual o número de filmes produzidos por país?\n",
    "- 9 - Quais são os Top10 melhores filmes?\n",
    "- 10 -Quais são os Top10 piores filmes?"
   ]
  },
  {
   "cell_type": "markdown",
   "id": "e17e2186",
   "metadata": {},
   "source": [
    "Tá esperando o que para pegar o seu baldinho de pipoca e começar? <br>\n",
    "<img src=\"imagens/pernalonga.gif\" width=\"350\" height=\"350\" align=\"left\">"
   ]
  },
  {
   "cell_type": "markdown",
   "id": "2628d9dc",
   "metadata": {},
   "source": [
    "-------------------------------------------------------------------------------------------------------------\n",
    "\n",
    "Vamos iniciar com a configuração do ambiente, instalando e importando os módulos usados no projeto:"
   ]
  },
  {
   "cell_type": "code",
   "execution_count": 215,
   "id": "e74b7b52",
   "metadata": {},
   "outputs": [
    {
     "name": "stdout",
     "output_type": "stream",
     "text": [
      "3.8.8\n"
     ]
    }
   ],
   "source": [
    "# Versão usada no projeto:\n",
    "from platform import python_version\n",
    "print(python_version())"
   ]
  },
  {
   "cell_type": "code",
   "execution_count": null,
   "id": "6767a0f2",
   "metadata": {},
   "outputs": [],
   "source": [
    "# Instalação\n",
    "%config IPCompleter.greedy=True\n",
    "!pip install -q imdb-sqlite # dados no BD SQLite\n",
    "!pip install -q pycountry #nomes de países a partir dos códigos ISO"
   ]
  },
  {
   "cell_type": "code",
   "execution_count": 2,
   "id": "214c8e42",
   "metadata": {},
   "outputs": [],
   "source": [
    "# Imports\n",
    "import re #regEx\n",
    "import sqlite3 #BD\n",
    "import pycountry\n",
    "import numpy as np\n",
    "import pandas as pd\n",
    "import matplotlib.pyplot as plt\n",
    "import seaborn as sns\n",
    "from matplotlib import cm\n",
    "from sklearn.feature_extraction.text import CountVectorizer #criação de vetores\n",
    "import warnings\n",
    "from IPython.display import Image"
   ]
  },
  {
   "cell_type": "code",
   "execution_count": 3,
   "id": "6fcf6151",
   "metadata": {},
   "outputs": [],
   "source": [
    "# Configs iniciais\n",
    "warnings.filterwarnings(\"ignore\") #ocultar msg de warning\n",
    "sns.set_theme(style = \"whitegrid\") #estilo dos gráficos: bg branco"
   ]
  },
  {
   "cell_type": "code",
   "execution_count": null,
   "id": "e76bc758",
   "metadata": {
    "scrolled": true
   },
   "outputs": [],
   "source": [
    "# Baixar os dados e transferir para o arquivo do bd\n",
    "!imdb-sqlite"
   ]
  },
  {
   "cell_type": "markdown",
   "id": "9434a1ca",
   "metadata": {},
   "source": [
    "Feito o dowload dos dados e transferidos para o arquivo .db do SqLite, vamos estabelecer a conexão com o banco e fazer uma consulta para obter o nome de todas as tabelas que há nele:"
   ]
  },
  {
   "cell_type": "code",
   "execution_count": 5,
   "id": "1a70bd9a",
   "metadata": {},
   "outputs": [
    {
     "name": "stdout",
     "output_type": "stream",
     "text": [
      "['people', 'titles', 'akas', 'crew', 'episodes', 'ratings']\n"
     ]
    }
   ],
   "source": [
    "conexao = sqlite3.connect(\"imdb.db\")\n",
    "query = \"SELECT NAME AS 'Table_Name' FROM sqlite_master WHERE type = 'table'\"\n",
    "tabelas = pd.read_sql_query(query, conexao)\n",
    "tabelas_lst = list(tabelas[\"Table_Name\"])\n",
    "print(tabelas_lst)"
   ]
  },
  {
   "cell_type": "markdown",
   "id": "c250c70c",
   "metadata": {},
   "source": [
    "Agora vamos dar uma inspecionada na estrutura de cada uma das tabelas, para checar os campos e os tipos de dados. Para isso, faremos uma consulta ao catálogo do banco de dados:"
   ]
  },
  {
   "cell_type": "code",
   "execution_count": 6,
   "id": "4acf9c30",
   "metadata": {},
   "outputs": [
    {
     "name": "stdout",
     "output_type": "stream",
     "text": [
      "Esquema da tabela: people\n"
     ]
    },
    {
     "data": {
      "text/html": [
       "<div>\n",
       "<style scoped>\n",
       "    .dataframe tbody tr th:only-of-type {\n",
       "        vertical-align: middle;\n",
       "    }\n",
       "\n",
       "    .dataframe tbody tr th {\n",
       "        vertical-align: top;\n",
       "    }\n",
       "\n",
       "    .dataframe thead th {\n",
       "        text-align: right;\n",
       "    }\n",
       "</style>\n",
       "<table border=\"1\" class=\"dataframe\">\n",
       "  <thead>\n",
       "    <tr style=\"text-align: right;\">\n",
       "      <th></th>\n",
       "      <th>cid</th>\n",
       "      <th>name</th>\n",
       "      <th>type</th>\n",
       "      <th>notnull</th>\n",
       "      <th>dflt_value</th>\n",
       "      <th>pk</th>\n",
       "    </tr>\n",
       "  </thead>\n",
       "  <tbody>\n",
       "    <tr>\n",
       "      <th>0</th>\n",
       "      <td>0</td>\n",
       "      <td>person_id</td>\n",
       "      <td>VARCHAR</td>\n",
       "      <td>0</td>\n",
       "      <td>None</td>\n",
       "      <td>1</td>\n",
       "    </tr>\n",
       "    <tr>\n",
       "      <th>1</th>\n",
       "      <td>1</td>\n",
       "      <td>name</td>\n",
       "      <td>VARCHAR</td>\n",
       "      <td>0</td>\n",
       "      <td>None</td>\n",
       "      <td>0</td>\n",
       "    </tr>\n",
       "    <tr>\n",
       "      <th>2</th>\n",
       "      <td>2</td>\n",
       "      <td>born</td>\n",
       "      <td>INTEGER</td>\n",
       "      <td>0</td>\n",
       "      <td>None</td>\n",
       "      <td>0</td>\n",
       "    </tr>\n",
       "    <tr>\n",
       "      <th>3</th>\n",
       "      <td>3</td>\n",
       "      <td>died</td>\n",
       "      <td>INTEGER</td>\n",
       "      <td>0</td>\n",
       "      <td>None</td>\n",
       "      <td>0</td>\n",
       "    </tr>\n",
       "  </tbody>\n",
       "</table>\n",
       "</div>"
      ],
      "text/plain": [
       "   cid       name     type  notnull dflt_value  pk\n",
       "0    0  person_id  VARCHAR        0       None   1\n",
       "1    1       name  VARCHAR        0       None   0\n",
       "2    2       born  INTEGER        0       None   0\n",
       "3    3       died  INTEGER        0       None   0"
      ]
     },
     "metadata": {},
     "output_type": "display_data"
    },
    {
     "name": "stdout",
     "output_type": "stream",
     "text": [
      "-------------------------------------------------- \n",
      "\n",
      "Esquema da tabela: titles\n"
     ]
    },
    {
     "data": {
      "text/html": [
       "<div>\n",
       "<style scoped>\n",
       "    .dataframe tbody tr th:only-of-type {\n",
       "        vertical-align: middle;\n",
       "    }\n",
       "\n",
       "    .dataframe tbody tr th {\n",
       "        vertical-align: top;\n",
       "    }\n",
       "\n",
       "    .dataframe thead th {\n",
       "        text-align: right;\n",
       "    }\n",
       "</style>\n",
       "<table border=\"1\" class=\"dataframe\">\n",
       "  <thead>\n",
       "    <tr style=\"text-align: right;\">\n",
       "      <th></th>\n",
       "      <th>cid</th>\n",
       "      <th>name</th>\n",
       "      <th>type</th>\n",
       "      <th>notnull</th>\n",
       "      <th>dflt_value</th>\n",
       "      <th>pk</th>\n",
       "    </tr>\n",
       "  </thead>\n",
       "  <tbody>\n",
       "    <tr>\n",
       "      <th>0</th>\n",
       "      <td>0</td>\n",
       "      <td>title_id</td>\n",
       "      <td>VARCHAR</td>\n",
       "      <td>0</td>\n",
       "      <td>None</td>\n",
       "      <td>1</td>\n",
       "    </tr>\n",
       "    <tr>\n",
       "      <th>1</th>\n",
       "      <td>1</td>\n",
       "      <td>type</td>\n",
       "      <td>VARCHAR</td>\n",
       "      <td>0</td>\n",
       "      <td>None</td>\n",
       "      <td>0</td>\n",
       "    </tr>\n",
       "    <tr>\n",
       "      <th>2</th>\n",
       "      <td>2</td>\n",
       "      <td>primary_title</td>\n",
       "      <td>VARCHAR</td>\n",
       "      <td>0</td>\n",
       "      <td>None</td>\n",
       "      <td>0</td>\n",
       "    </tr>\n",
       "    <tr>\n",
       "      <th>3</th>\n",
       "      <td>3</td>\n",
       "      <td>original_title</td>\n",
       "      <td>VARCHAR</td>\n",
       "      <td>0</td>\n",
       "      <td>None</td>\n",
       "      <td>0</td>\n",
       "    </tr>\n",
       "    <tr>\n",
       "      <th>4</th>\n",
       "      <td>4</td>\n",
       "      <td>is_adult</td>\n",
       "      <td>INTEGER</td>\n",
       "      <td>0</td>\n",
       "      <td>None</td>\n",
       "      <td>0</td>\n",
       "    </tr>\n",
       "    <tr>\n",
       "      <th>5</th>\n",
       "      <td>5</td>\n",
       "      <td>premiered</td>\n",
       "      <td>INTEGER</td>\n",
       "      <td>0</td>\n",
       "      <td>None</td>\n",
       "      <td>0</td>\n",
       "    </tr>\n",
       "    <tr>\n",
       "      <th>6</th>\n",
       "      <td>6</td>\n",
       "      <td>ended</td>\n",
       "      <td>INTEGER</td>\n",
       "      <td>0</td>\n",
       "      <td>None</td>\n",
       "      <td>0</td>\n",
       "    </tr>\n",
       "    <tr>\n",
       "      <th>7</th>\n",
       "      <td>7</td>\n",
       "      <td>runtime_minutes</td>\n",
       "      <td>INTEGER</td>\n",
       "      <td>0</td>\n",
       "      <td>None</td>\n",
       "      <td>0</td>\n",
       "    </tr>\n",
       "    <tr>\n",
       "      <th>8</th>\n",
       "      <td>8</td>\n",
       "      <td>genres</td>\n",
       "      <td>VARCHAR</td>\n",
       "      <td>0</td>\n",
       "      <td>None</td>\n",
       "      <td>0</td>\n",
       "    </tr>\n",
       "  </tbody>\n",
       "</table>\n",
       "</div>"
      ],
      "text/plain": [
       "   cid             name     type  notnull dflt_value  pk\n",
       "0    0         title_id  VARCHAR        0       None   1\n",
       "1    1             type  VARCHAR        0       None   0\n",
       "2    2    primary_title  VARCHAR        0       None   0\n",
       "3    3   original_title  VARCHAR        0       None   0\n",
       "4    4         is_adult  INTEGER        0       None   0\n",
       "5    5        premiered  INTEGER        0       None   0\n",
       "6    6            ended  INTEGER        0       None   0\n",
       "7    7  runtime_minutes  INTEGER        0       None   0\n",
       "8    8           genres  VARCHAR        0       None   0"
      ]
     },
     "metadata": {},
     "output_type": "display_data"
    },
    {
     "name": "stdout",
     "output_type": "stream",
     "text": [
      "-------------------------------------------------- \n",
      "\n",
      "Esquema da tabela: akas\n"
     ]
    },
    {
     "data": {
      "text/html": [
       "<div>\n",
       "<style scoped>\n",
       "    .dataframe tbody tr th:only-of-type {\n",
       "        vertical-align: middle;\n",
       "    }\n",
       "\n",
       "    .dataframe tbody tr th {\n",
       "        vertical-align: top;\n",
       "    }\n",
       "\n",
       "    .dataframe thead th {\n",
       "        text-align: right;\n",
       "    }\n",
       "</style>\n",
       "<table border=\"1\" class=\"dataframe\">\n",
       "  <thead>\n",
       "    <tr style=\"text-align: right;\">\n",
       "      <th></th>\n",
       "      <th>cid</th>\n",
       "      <th>name</th>\n",
       "      <th>type</th>\n",
       "      <th>notnull</th>\n",
       "      <th>dflt_value</th>\n",
       "      <th>pk</th>\n",
       "    </tr>\n",
       "  </thead>\n",
       "  <tbody>\n",
       "    <tr>\n",
       "      <th>0</th>\n",
       "      <td>0</td>\n",
       "      <td>title_id</td>\n",
       "      <td>VARCHAR</td>\n",
       "      <td>0</td>\n",
       "      <td>None</td>\n",
       "      <td>0</td>\n",
       "    </tr>\n",
       "    <tr>\n",
       "      <th>1</th>\n",
       "      <td>1</td>\n",
       "      <td>title</td>\n",
       "      <td>VARCHAR</td>\n",
       "      <td>0</td>\n",
       "      <td>None</td>\n",
       "      <td>0</td>\n",
       "    </tr>\n",
       "    <tr>\n",
       "      <th>2</th>\n",
       "      <td>2</td>\n",
       "      <td>region</td>\n",
       "      <td>VARCHAR</td>\n",
       "      <td>0</td>\n",
       "      <td>None</td>\n",
       "      <td>0</td>\n",
       "    </tr>\n",
       "    <tr>\n",
       "      <th>3</th>\n",
       "      <td>3</td>\n",
       "      <td>language</td>\n",
       "      <td>VARCHAR</td>\n",
       "      <td>0</td>\n",
       "      <td>None</td>\n",
       "      <td>0</td>\n",
       "    </tr>\n",
       "    <tr>\n",
       "      <th>4</th>\n",
       "      <td>4</td>\n",
       "      <td>types</td>\n",
       "      <td>VARCHAR</td>\n",
       "      <td>0</td>\n",
       "      <td>None</td>\n",
       "      <td>0</td>\n",
       "    </tr>\n",
       "    <tr>\n",
       "      <th>5</th>\n",
       "      <td>5</td>\n",
       "      <td>attributes</td>\n",
       "      <td>VARCHAR</td>\n",
       "      <td>0</td>\n",
       "      <td>None</td>\n",
       "      <td>0</td>\n",
       "    </tr>\n",
       "    <tr>\n",
       "      <th>6</th>\n",
       "      <td>6</td>\n",
       "      <td>is_original_title</td>\n",
       "      <td>INTEGER</td>\n",
       "      <td>0</td>\n",
       "      <td>None</td>\n",
       "      <td>0</td>\n",
       "    </tr>\n",
       "  </tbody>\n",
       "</table>\n",
       "</div>"
      ],
      "text/plain": [
       "   cid               name     type  notnull dflt_value  pk\n",
       "0    0           title_id  VARCHAR        0       None   0\n",
       "1    1              title  VARCHAR        0       None   0\n",
       "2    2             region  VARCHAR        0       None   0\n",
       "3    3           language  VARCHAR        0       None   0\n",
       "4    4              types  VARCHAR        0       None   0\n",
       "5    5         attributes  VARCHAR        0       None   0\n",
       "6    6  is_original_title  INTEGER        0       None   0"
      ]
     },
     "metadata": {},
     "output_type": "display_data"
    },
    {
     "name": "stdout",
     "output_type": "stream",
     "text": [
      "-------------------------------------------------- \n",
      "\n",
      "Esquema da tabela: crew\n"
     ]
    },
    {
     "data": {
      "text/html": [
       "<div>\n",
       "<style scoped>\n",
       "    .dataframe tbody tr th:only-of-type {\n",
       "        vertical-align: middle;\n",
       "    }\n",
       "\n",
       "    .dataframe tbody tr th {\n",
       "        vertical-align: top;\n",
       "    }\n",
       "\n",
       "    .dataframe thead th {\n",
       "        text-align: right;\n",
       "    }\n",
       "</style>\n",
       "<table border=\"1\" class=\"dataframe\">\n",
       "  <thead>\n",
       "    <tr style=\"text-align: right;\">\n",
       "      <th></th>\n",
       "      <th>cid</th>\n",
       "      <th>name</th>\n",
       "      <th>type</th>\n",
       "      <th>notnull</th>\n",
       "      <th>dflt_value</th>\n",
       "      <th>pk</th>\n",
       "    </tr>\n",
       "  </thead>\n",
       "  <tbody>\n",
       "    <tr>\n",
       "      <th>0</th>\n",
       "      <td>0</td>\n",
       "      <td>title_id</td>\n",
       "      <td>VARCHAR</td>\n",
       "      <td>0</td>\n",
       "      <td>None</td>\n",
       "      <td>0</td>\n",
       "    </tr>\n",
       "    <tr>\n",
       "      <th>1</th>\n",
       "      <td>1</td>\n",
       "      <td>person_id</td>\n",
       "      <td>VARCHAR</td>\n",
       "      <td>0</td>\n",
       "      <td>None</td>\n",
       "      <td>0</td>\n",
       "    </tr>\n",
       "    <tr>\n",
       "      <th>2</th>\n",
       "      <td>2</td>\n",
       "      <td>category</td>\n",
       "      <td>VARCHAR</td>\n",
       "      <td>0</td>\n",
       "      <td>None</td>\n",
       "      <td>0</td>\n",
       "    </tr>\n",
       "    <tr>\n",
       "      <th>3</th>\n",
       "      <td>3</td>\n",
       "      <td>job</td>\n",
       "      <td>VARCHAR</td>\n",
       "      <td>0</td>\n",
       "      <td>None</td>\n",
       "      <td>0</td>\n",
       "    </tr>\n",
       "    <tr>\n",
       "      <th>4</th>\n",
       "      <td>4</td>\n",
       "      <td>characters</td>\n",
       "      <td>VARCHAR</td>\n",
       "      <td>0</td>\n",
       "      <td>None</td>\n",
       "      <td>0</td>\n",
       "    </tr>\n",
       "  </tbody>\n",
       "</table>\n",
       "</div>"
      ],
      "text/plain": [
       "   cid        name     type  notnull dflt_value  pk\n",
       "0    0    title_id  VARCHAR        0       None   0\n",
       "1    1   person_id  VARCHAR        0       None   0\n",
       "2    2    category  VARCHAR        0       None   0\n",
       "3    3         job  VARCHAR        0       None   0\n",
       "4    4  characters  VARCHAR        0       None   0"
      ]
     },
     "metadata": {},
     "output_type": "display_data"
    },
    {
     "name": "stdout",
     "output_type": "stream",
     "text": [
      "-------------------------------------------------- \n",
      "\n",
      "Esquema da tabela: episodes\n"
     ]
    },
    {
     "data": {
      "text/html": [
       "<div>\n",
       "<style scoped>\n",
       "    .dataframe tbody tr th:only-of-type {\n",
       "        vertical-align: middle;\n",
       "    }\n",
       "\n",
       "    .dataframe tbody tr th {\n",
       "        vertical-align: top;\n",
       "    }\n",
       "\n",
       "    .dataframe thead th {\n",
       "        text-align: right;\n",
       "    }\n",
       "</style>\n",
       "<table border=\"1\" class=\"dataframe\">\n",
       "  <thead>\n",
       "    <tr style=\"text-align: right;\">\n",
       "      <th></th>\n",
       "      <th>cid</th>\n",
       "      <th>name</th>\n",
       "      <th>type</th>\n",
       "      <th>notnull</th>\n",
       "      <th>dflt_value</th>\n",
       "      <th>pk</th>\n",
       "    </tr>\n",
       "  </thead>\n",
       "  <tbody>\n",
       "    <tr>\n",
       "      <th>0</th>\n",
       "      <td>0</td>\n",
       "      <td>episode_title_id</td>\n",
       "      <td>INTEGER</td>\n",
       "      <td>0</td>\n",
       "      <td>None</td>\n",
       "      <td>0</td>\n",
       "    </tr>\n",
       "    <tr>\n",
       "      <th>1</th>\n",
       "      <td>1</td>\n",
       "      <td>show_title_id</td>\n",
       "      <td>INTEGER</td>\n",
       "      <td>0</td>\n",
       "      <td>None</td>\n",
       "      <td>0</td>\n",
       "    </tr>\n",
       "    <tr>\n",
       "      <th>2</th>\n",
       "      <td>2</td>\n",
       "      <td>season_number</td>\n",
       "      <td>INTEGER</td>\n",
       "      <td>0</td>\n",
       "      <td>None</td>\n",
       "      <td>0</td>\n",
       "    </tr>\n",
       "    <tr>\n",
       "      <th>3</th>\n",
       "      <td>3</td>\n",
       "      <td>eposide_number</td>\n",
       "      <td>INTEGER</td>\n",
       "      <td>0</td>\n",
       "      <td>None</td>\n",
       "      <td>0</td>\n",
       "    </tr>\n",
       "  </tbody>\n",
       "</table>\n",
       "</div>"
      ],
      "text/plain": [
       "   cid              name     type  notnull dflt_value  pk\n",
       "0    0  episode_title_id  INTEGER        0       None   0\n",
       "1    1     show_title_id  INTEGER        0       None   0\n",
       "2    2     season_number  INTEGER        0       None   0\n",
       "3    3    eposide_number  INTEGER        0       None   0"
      ]
     },
     "metadata": {},
     "output_type": "display_data"
    },
    {
     "name": "stdout",
     "output_type": "stream",
     "text": [
      "-------------------------------------------------- \n",
      "\n",
      "Esquema da tabela: ratings\n"
     ]
    },
    {
     "data": {
      "text/html": [
       "<div>\n",
       "<style scoped>\n",
       "    .dataframe tbody tr th:only-of-type {\n",
       "        vertical-align: middle;\n",
       "    }\n",
       "\n",
       "    .dataframe tbody tr th {\n",
       "        vertical-align: top;\n",
       "    }\n",
       "\n",
       "    .dataframe thead th {\n",
       "        text-align: right;\n",
       "    }\n",
       "</style>\n",
       "<table border=\"1\" class=\"dataframe\">\n",
       "  <thead>\n",
       "    <tr style=\"text-align: right;\">\n",
       "      <th></th>\n",
       "      <th>cid</th>\n",
       "      <th>name</th>\n",
       "      <th>type</th>\n",
       "      <th>notnull</th>\n",
       "      <th>dflt_value</th>\n",
       "      <th>pk</th>\n",
       "    </tr>\n",
       "  </thead>\n",
       "  <tbody>\n",
       "    <tr>\n",
       "      <th>0</th>\n",
       "      <td>0</td>\n",
       "      <td>title_id</td>\n",
       "      <td>VARCHAR</td>\n",
       "      <td>0</td>\n",
       "      <td>None</td>\n",
       "      <td>1</td>\n",
       "    </tr>\n",
       "    <tr>\n",
       "      <th>1</th>\n",
       "      <td>1</td>\n",
       "      <td>rating</td>\n",
       "      <td>INTEGER</td>\n",
       "      <td>0</td>\n",
       "      <td>None</td>\n",
       "      <td>0</td>\n",
       "    </tr>\n",
       "    <tr>\n",
       "      <th>2</th>\n",
       "      <td>2</td>\n",
       "      <td>votes</td>\n",
       "      <td>INTEGER</td>\n",
       "      <td>0</td>\n",
       "      <td>None</td>\n",
       "      <td>0</td>\n",
       "    </tr>\n",
       "  </tbody>\n",
       "</table>\n",
       "</div>"
      ],
      "text/plain": [
       "   cid      name     type  notnull dflt_value  pk\n",
       "0    0  title_id  VARCHAR        0       None   1\n",
       "1    1    rating  INTEGER        0       None   0\n",
       "2    2     votes  INTEGER        0       None   0"
      ]
     },
     "metadata": {},
     "output_type": "display_data"
    },
    {
     "name": "stdout",
     "output_type": "stream",
     "text": [
      "-------------------------------------------------- \n",
      "\n"
     ]
    }
   ],
   "source": [
    "for tabela in tabelas_lst:\n",
    "    query = f\"PRAGMA TABLE_INFO({tabela})\"\n",
    "    schema = pd.read_sql_query(query, conexao)\n",
    "    print(f\"Esquema da tabela: {tabela}\")\n",
    "    display(schema)\n",
    "    print(\"-\"*50, \"\\n\")"
   ]
  },
  {
   "cell_type": "markdown",
   "id": "1f957e81",
   "metadata": {},
   "source": [
    "Agora que possuimos acesso às tabelas e conhecemos melhor sua estrutura, estamos prontos para explorar os dados em busca de potenciais respostas para as nossas perguntas de interesse. #Partiu?\n",
    "\n",
    "<img src=\"imagens/tenor.gif\" width=\"200\" align=\"left\">\n"
   ]
  },
  {
   "cell_type": "markdown",
   "id": "8c9c91d1",
   "metadata": {},
   "source": [
    "--------------------------------------------------------------------------------------------------------------\n",
    "\n",
    "### Pergunta 1 - Quais as categorias de produção mais comuns no IMBD?\n",
    "Podemos responder essa pergunta checando quais categorias possuem mais registros. <br>\n",
    "As categorias estão representadas pela coluna 'type' da tabela 'titles'. Portanto, vamos agrupar os dados pela categoria e contar quantos registros há em cada uma delas:"
   ]
  },
  {
   "cell_type": "code",
   "execution_count": 7,
   "id": "835b244a",
   "metadata": {},
   "outputs": [
    {
     "data": {
      "text/html": [
       "<div>\n",
       "<style scoped>\n",
       "    .dataframe tbody tr th:only-of-type {\n",
       "        vertical-align: middle;\n",
       "    }\n",
       "\n",
       "    .dataframe tbody tr th {\n",
       "        vertical-align: top;\n",
       "    }\n",
       "\n",
       "    .dataframe thead th {\n",
       "        text-align: right;\n",
       "    }\n",
       "</style>\n",
       "<table border=\"1\" class=\"dataframe\">\n",
       "  <thead>\n",
       "    <tr style=\"text-align: right;\">\n",
       "      <th></th>\n",
       "      <th>type</th>\n",
       "      <th>contagem</th>\n",
       "    </tr>\n",
       "  </thead>\n",
       "  <tbody>\n",
       "    <tr>\n",
       "      <th>0</th>\n",
       "      <td>tvEpisode</td>\n",
       "      <td>5926850</td>\n",
       "    </tr>\n",
       "    <tr>\n",
       "      <th>1</th>\n",
       "      <td>short</td>\n",
       "      <td>821555</td>\n",
       "    </tr>\n",
       "    <tr>\n",
       "      <th>2</th>\n",
       "      <td>movie</td>\n",
       "      <td>582788</td>\n",
       "    </tr>\n",
       "    <tr>\n",
       "      <th>3</th>\n",
       "      <td>video</td>\n",
       "      <td>314581</td>\n",
       "    </tr>\n",
       "    <tr>\n",
       "      <th>4</th>\n",
       "      <td>tvSeries</td>\n",
       "      <td>211043</td>\n",
       "    </tr>\n",
       "  </tbody>\n",
       "</table>\n",
       "</div>"
      ],
      "text/plain": [
       "        type  contagem\n",
       "0  tvEpisode   5926850\n",
       "1      short    821555\n",
       "2      movie    582788\n",
       "3      video    314581\n",
       "4   tvSeries    211043"
      ]
     },
     "execution_count": 7,
     "metadata": {},
     "output_type": "execute_result"
    }
   ],
   "source": [
    "query = '''SELECT type, COUNT(*) AS contagem \n",
    "            FROM titles \n",
    "            GROUP BY type \n",
    "            ORDER BY contagem desc'''\n",
    "resultado1 = pd.read_sql_query(query, conexao)\n",
    "resultado1.head(5)"
   ]
  },
  {
   "cell_type": "markdown",
   "id": "63271d65",
   "metadata": {},
   "source": [
    "Apesar desses dados já nos fornecerem uma resposta à nossa pergunta, os dados absolutos pode ser uma forma menos intuitiva de interpretar os dados do que medidas relativas como porcentagens, que nos informam qual é a fração do total representada por cada categoria. Assim, vamos acrescentar uma coluna ao nosso resultado com a % dos diferentes tipos de produção:"
   ]
  },
  {
   "cell_type": "code",
   "execution_count": 8,
   "id": "05409dbb",
   "metadata": {},
   "outputs": [
    {
     "data": {
      "text/html": [
       "<div>\n",
       "<style scoped>\n",
       "    .dataframe tbody tr th:only-of-type {\n",
       "        vertical-align: middle;\n",
       "    }\n",
       "\n",
       "    .dataframe tbody tr th {\n",
       "        vertical-align: top;\n",
       "    }\n",
       "\n",
       "    .dataframe thead th {\n",
       "        text-align: right;\n",
       "    }\n",
       "</style>\n",
       "<table border=\"1\" class=\"dataframe\">\n",
       "  <thead>\n",
       "    <tr style=\"text-align: right;\">\n",
       "      <th></th>\n",
       "      <th>type</th>\n",
       "      <th>contagem</th>\n",
       "      <th>% type</th>\n",
       "    </tr>\n",
       "  </thead>\n",
       "  <tbody>\n",
       "    <tr>\n",
       "      <th>0</th>\n",
       "      <td>tvEpisode</td>\n",
       "      <td>5926850</td>\n",
       "      <td>73.18</td>\n",
       "    </tr>\n",
       "    <tr>\n",
       "      <th>1</th>\n",
       "      <td>short</td>\n",
       "      <td>821555</td>\n",
       "      <td>10.14</td>\n",
       "    </tr>\n",
       "    <tr>\n",
       "      <th>2</th>\n",
       "      <td>movie</td>\n",
       "      <td>582788</td>\n",
       "      <td>7.20</td>\n",
       "    </tr>\n",
       "    <tr>\n",
       "      <th>3</th>\n",
       "      <td>video</td>\n",
       "      <td>314581</td>\n",
       "      <td>3.88</td>\n",
       "    </tr>\n",
       "    <tr>\n",
       "      <th>4</th>\n",
       "      <td>tvSeries</td>\n",
       "      <td>211043</td>\n",
       "      <td>2.61</td>\n",
       "    </tr>\n",
       "  </tbody>\n",
       "</table>\n",
       "</div>"
      ],
      "text/plain": [
       "        type  contagem  % type\n",
       "0  tvEpisode   5926850   73.18\n",
       "1      short    821555   10.14\n",
       "2      movie    582788    7.20\n",
       "3      video    314581    3.88\n",
       "4   tvSeries    211043    2.61"
      ]
     },
     "execution_count": 8,
     "metadata": {},
     "output_type": "execute_result"
    }
   ],
   "source": [
    "total_filmes = resultado1['contagem'].sum()\n",
    "resultado1['% type'] = round((resultado1['contagem']*100)/total_filmes,2)\n",
    "resultado1.head()"
   ]
  },
  {
   "cell_type": "code",
   "execution_count": 9,
   "id": "77320ce9",
   "metadata": {},
   "outputs": [
    {
     "data": {
      "text/plain": [
       "100.0"
      ]
     },
     "execution_count": 9,
     "metadata": {},
     "output_type": "execute_result"
    }
   ],
   "source": [
    "# checando soma % categorias = 100\n",
    "resultado1['% type'].sum()"
   ]
  },
  {
   "cell_type": "markdown",
   "id": "485ca1a7",
   "metadata": {},
   "source": [
    "Podemos facilitar ainda mais a interpretação dos dados mostrando o resultado em forma de gráfico. Para dar maior ênfase às categorias dominantes, vamos mostrar apenas as três mais comuns e agrupar as demais em uma única categoria geral, que vamos chamar de \"Others\". \n",
    "\n",
    "Porém, para fazer isso primeiro precisamos manipular os dados para consolidar o conjunto de dados adequado, contendo registros desses 2 grandes grupos:\n",
    "\n",
    "1.others: com a soma dos valores das colunas 'contagem' e '% type' para todas as categorias não dominantes (< 5% dos registros)<br>\n",
    "2.dominantes: mantendo os valores originais das categorias com % > 5\n",
    "\n",
    "Vejamos:"
   ]
  },
  {
   "cell_type": "code",
   "execution_count": 10,
   "id": "7087dd5b",
   "metadata": {},
   "outputs": [
    {
     "data": {
      "text/plain": [
       "{'type': 'others', 'contagem': 768323, '% type': 9.48}"
      ]
     },
     "execution_count": 10,
     "metadata": {},
     "output_type": "execute_result"
    }
   ],
   "source": [
    "# Criando um dicionário com as métricas do grupo others: type, contagem e %\n",
    "others = {\n",
    "    \"type\": \"others\",\n",
    "    \"contagem\": resultado1[resultado1['% type'] < 5]['contagem'].sum(),\n",
    "    \"% type\": resultado1[resultado1['% type'] < 5]['% type'].sum()\n",
    "    }\n",
    "\n",
    "others"
   ]
  },
  {
   "cell_type": "code",
   "execution_count": 11,
   "id": "685784b7",
   "metadata": {},
   "outputs": [
    {
     "data": {
      "text/html": [
       "<div>\n",
       "<style scoped>\n",
       "    .dataframe tbody tr th:only-of-type {\n",
       "        vertical-align: middle;\n",
       "    }\n",
       "\n",
       "    .dataframe tbody tr th {\n",
       "        vertical-align: top;\n",
       "    }\n",
       "\n",
       "    .dataframe thead th {\n",
       "        text-align: right;\n",
       "    }\n",
       "</style>\n",
       "<table border=\"1\" class=\"dataframe\">\n",
       "  <thead>\n",
       "    <tr style=\"text-align: right;\">\n",
       "      <th></th>\n",
       "      <th>type</th>\n",
       "      <th>contagem</th>\n",
       "      <th>% type</th>\n",
       "    </tr>\n",
       "  </thead>\n",
       "  <tbody>\n",
       "    <tr>\n",
       "      <th>0</th>\n",
       "      <td>tvEpisode</td>\n",
       "      <td>5926850</td>\n",
       "      <td>73.18</td>\n",
       "    </tr>\n",
       "    <tr>\n",
       "      <th>1</th>\n",
       "      <td>short</td>\n",
       "      <td>821555</td>\n",
       "      <td>10.14</td>\n",
       "    </tr>\n",
       "    <tr>\n",
       "      <th>2</th>\n",
       "      <td>movie</td>\n",
       "      <td>582788</td>\n",
       "      <td>7.20</td>\n",
       "    </tr>\n",
       "    <tr>\n",
       "      <th>3</th>\n",
       "      <td>others</td>\n",
       "      <td>768323</td>\n",
       "      <td>9.48</td>\n",
       "    </tr>\n",
       "  </tbody>\n",
       "</table>\n",
       "</div>"
      ],
      "text/plain": [
       "        type  contagem  % type\n",
       "0  tvEpisode   5926850   73.18\n",
       "1      short    821555   10.14\n",
       "2      movie    582788    7.20\n",
       "3     others    768323    9.48"
      ]
     },
     "execution_count": 11,
     "metadata": {},
     "output_type": "execute_result"
    }
   ],
   "source": [
    "# Filtrando os dados para obter o subconjunto das mais comuns\n",
    "resultado1 = resultado1[resultado1['% type'] > 5]\n",
    "\n",
    "# Juntando os 2 subconjuntos\n",
    "resultado1 = resultado1.append(others, ignore_index=True)\n",
    "resultado1"
   ]
  },
  {
   "cell_type": "markdown",
   "id": "598d2cb0",
   "metadata": {},
   "source": [
    "Agora sim, podemos elabor o gráfico:"
   ]
  },
  {
   "cell_type": "code",
   "execution_count": 13,
   "id": "8528a03b",
   "metadata": {},
   "outputs": [
    {
     "data": {
      "image/png": "[encoded data removed]",
      "text/plain": [
       "<Figure size 432x288 with 1 Axes>"
      ]
     },
     "metadata": {},
     "output_type": "display_data"
    }
   ],
   "source": [
    "f = plt.figure()\n",
    "labels = [f\"{resultado1.values[i][0].capitalize()} - {resultado1.values[i][2]}%\" for i in resultado1.index]\n",
    "plt.pie(resultado1['contagem'], radius = 2.6, colors = cm.Set3(np.arange(4)), wedgeprops = dict(width = 0.6))\n",
    "plt.legend(labels = labels, loc = 'center', prop = {'size':14})\n",
    "plt.title(\"Distribuição de títulos\", loc = 'Center', fontdict = {'fontsize':18,'fontweight':500})\n",
    "plt.show()"
   ]
  },
  {
   "cell_type": "markdown",
   "id": "cc72f75b",
   "metadata": {},
   "source": [
    "Então, depois de bastante código para elaborar esta análise, vamos voltar a motivação principal que nos levou a fazê-la: responder a pergunta \"quais os tipos de produção mais comuns no IMBD?\" A partir dos dados, podemos concluir que as categorias mais comuns na IMDB são 'tvEpisode' (em disparada, com mais de 73% dos registros), seguido pela categoria 'short' e 'movie'. Essa pode ser uma informação relevante para tomadores de decisão da área, não?"
   ]
  },
  {
   "cell_type": "markdown",
   "id": "0c38ab64",
   "metadata": {},
   "source": [
    "-------------------------------------------------------------------------------------------------------------"
   ]
  },
  {
   "cell_type": "markdown",
   "id": "4868e549",
   "metadata": {},
   "source": [
    "### Pergunta 2- Qual é o número de títulos  de filme por gênero?\n",
    "Para obter a resposta podemos também trabalhar com valores relativos, apresentando a % de filmes em relação ao total para cada um dos gêneros existentes na lista. Como estamos interessados apenas no tipo de produção \"filmes\", traremos a consulta filtrada por type = \"movies\". Vamos lá:"
   ]
  },
  {
   "cell_type": "code",
   "execution_count": 14,
   "id": "ac01238b",
   "metadata": {},
   "outputs": [
    {
     "data": {
      "text/html": [
       "<div>\n",
       "<style scoped>\n",
       "    .dataframe tbody tr th:only-of-type {\n",
       "        vertical-align: middle;\n",
       "    }\n",
       "\n",
       "    .dataframe tbody tr th {\n",
       "        vertical-align: top;\n",
       "    }\n",
       "\n",
       "    .dataframe thead th {\n",
       "        text-align: right;\n",
       "    }\n",
       "</style>\n",
       "<table border=\"1\" class=\"dataframe\">\n",
       "  <thead>\n",
       "    <tr style=\"text-align: right;\">\n",
       "      <th></th>\n",
       "      <th>genres</th>\n",
       "    </tr>\n",
       "  </thead>\n",
       "  <tbody>\n",
       "    <tr>\n",
       "      <th>0</th>\n",
       "      <td>\\N</td>\n",
       "    </tr>\n",
       "    <tr>\n",
       "      <th>1</th>\n",
       "      <td>Action,Adventure,Biography</td>\n",
       "    </tr>\n",
       "    <tr>\n",
       "      <th>2</th>\n",
       "      <td>Drama</td>\n",
       "    </tr>\n",
       "    <tr>\n",
       "      <th>3</th>\n",
       "      <td>Drama</td>\n",
       "    </tr>\n",
       "    <tr>\n",
       "      <th>4</th>\n",
       "      <td>Drama</td>\n",
       "    </tr>\n",
       "  </tbody>\n",
       "</table>\n",
       "</div>"
      ],
      "text/plain": [
       "                       genres\n",
       "0                          \\N\n",
       "1  Action,Adventure,Biography\n",
       "2                       Drama\n",
       "3                       Drama\n",
       "4                       Drama"
      ]
     },
     "metadata": {},
     "output_type": "display_data"
    }
   ],
   "source": [
    "query = \"SELECT genres FROM titles WHERE type = 'movie'\"\n",
    "resultado2 = pd.read_sql_query(query, conexao)\n",
    "display(resultado2.head())"
   ]
  },
  {
   "cell_type": "markdown",
   "id": "2a1dac81",
   "metadata": {},
   "source": [
    "No retorno da consulta podemos reparar que na coluna 'genres' há filmes enquadrados em mais de um gênero. Para realizar a contagem correta de filmes em cada gênero separadamente esse formato de dados não é interessante.Precisamos de um conjunto de dados onde cada registro de filme (linha) esteja associado a único gênero, ainda que um mesmo filme possa ser atribuído a mais de um gênero (mas em linhas diferentes). Para realizar essa separação em gêneros únicos, iremos manipular os dados e usar a técnica de pré-processamento de textos \"one-hot enconding\". Você pode pesquisar um pouco mais sobre a técnica nesses 2 links:\n",
    "\n",
    "1.https://scikit-learn.org/stable/modules/generated/sklearn.feature_extraction.text.CountVectorizer.html <br>\n",
    "2.https://www.educative.io/edpresso/countvectorizer-in-python <br>"
   ]
  },
  {
   "cell_type": "code",
   "execution_count": 15,
   "id": "1cb002e3",
   "metadata": {},
   "outputs": [],
   "source": [
    "# Tratamento para remover valores faltantes e transformar strings em minúsculas\n",
    "resultado2['genres'] = resultado2['genres'].str.lower().values\n",
    "generos_temp = resultado2['genres'].dropna()"
   ]
  },
  {
   "cell_type": "code",
   "execution_count": 16,
   "id": "005563a3",
   "metadata": {},
   "outputs": [
    {
     "data": {
      "text/plain": [
       "['action', 'adult', 'adventure', 'animation', 'biography']"
      ]
     },
     "execution_count": 16,
     "metadata": {},
     "output_type": "execute_result"
    }
   ],
   "source": [
    "# Criando lista com registros únicos de gênero\n",
    "padrao = '(?u)\\\\b[\\\\w-]+\\\\b'\n",
    "vetor = CountVectorizer(token_pattern = padrao, analyzer = 'word').fit(generos_temp)\n",
    "generos_unicos =  vetor.get_feature_names()\n",
    "generos_unicos[:5]"
   ]
  },
  {
   "cell_type": "code",
   "execution_count": 19,
   "id": "b326f0de",
   "metadata": {},
   "outputs": [
    {
     "data": {
      "text/html": [
       "<div>\n",
       "<style scoped>\n",
       "    .dataframe tbody tr th:only-of-type {\n",
       "        vertical-align: middle;\n",
       "    }\n",
       "\n",
       "    .dataframe tbody tr th {\n",
       "        vertical-align: top;\n",
       "    }\n",
       "\n",
       "    .dataframe thead th {\n",
       "        text-align: right;\n",
       "    }\n",
       "</style>\n",
       "<table border=\"1\" class=\"dataframe\">\n",
       "  <thead>\n",
       "    <tr style=\"text-align: right;\">\n",
       "      <th></th>\n",
       "      <th>action</th>\n",
       "      <th>adult</th>\n",
       "      <th>adventure</th>\n",
       "      <th>animation</th>\n",
       "      <th>biography</th>\n",
       "      <th>comedy</th>\n",
       "      <th>crime</th>\n",
       "      <th>documentary</th>\n",
       "      <th>drama</th>\n",
       "      <th>family</th>\n",
       "      <th>...</th>\n",
       "      <th>news</th>\n",
       "      <th>reality-tv</th>\n",
       "      <th>romance</th>\n",
       "      <th>sci-fi</th>\n",
       "      <th>short</th>\n",
       "      <th>sport</th>\n",
       "      <th>talk-show</th>\n",
       "      <th>thriller</th>\n",
       "      <th>war</th>\n",
       "      <th>western</th>\n",
       "    </tr>\n",
       "  </thead>\n",
       "  <tbody>\n",
       "    <tr>\n",
       "      <th>0</th>\n",
       "      <td>0</td>\n",
       "      <td>0</td>\n",
       "      <td>0</td>\n",
       "      <td>0</td>\n",
       "      <td>0</td>\n",
       "      <td>0</td>\n",
       "      <td>0</td>\n",
       "      <td>0</td>\n",
       "      <td>0</td>\n",
       "      <td>0</td>\n",
       "      <td>...</td>\n",
       "      <td>0</td>\n",
       "      <td>0</td>\n",
       "      <td>0</td>\n",
       "      <td>0</td>\n",
       "      <td>0</td>\n",
       "      <td>0</td>\n",
       "      <td>0</td>\n",
       "      <td>0</td>\n",
       "      <td>0</td>\n",
       "      <td>0</td>\n",
       "    </tr>\n",
       "    <tr>\n",
       "      <th>1</th>\n",
       "      <td>1</td>\n",
       "      <td>0</td>\n",
       "      <td>1</td>\n",
       "      <td>0</td>\n",
       "      <td>1</td>\n",
       "      <td>0</td>\n",
       "      <td>0</td>\n",
       "      <td>0</td>\n",
       "      <td>0</td>\n",
       "      <td>0</td>\n",
       "      <td>...</td>\n",
       "      <td>0</td>\n",
       "      <td>0</td>\n",
       "      <td>0</td>\n",
       "      <td>0</td>\n",
       "      <td>0</td>\n",
       "      <td>0</td>\n",
       "      <td>0</td>\n",
       "      <td>0</td>\n",
       "      <td>0</td>\n",
       "      <td>0</td>\n",
       "    </tr>\n",
       "    <tr>\n",
       "      <th>2</th>\n",
       "      <td>0</td>\n",
       "      <td>0</td>\n",
       "      <td>0</td>\n",
       "      <td>0</td>\n",
       "      <td>0</td>\n",
       "      <td>0</td>\n",
       "      <td>0</td>\n",
       "      <td>0</td>\n",
       "      <td>1</td>\n",
       "      <td>0</td>\n",
       "      <td>...</td>\n",
       "      <td>0</td>\n",
       "      <td>0</td>\n",
       "      <td>0</td>\n",
       "      <td>0</td>\n",
       "      <td>0</td>\n",
       "      <td>0</td>\n",
       "      <td>0</td>\n",
       "      <td>0</td>\n",
       "      <td>0</td>\n",
       "      <td>0</td>\n",
       "    </tr>\n",
       "    <tr>\n",
       "      <th>3</th>\n",
       "      <td>0</td>\n",
       "      <td>0</td>\n",
       "      <td>0</td>\n",
       "      <td>0</td>\n",
       "      <td>0</td>\n",
       "      <td>0</td>\n",
       "      <td>0</td>\n",
       "      <td>0</td>\n",
       "      <td>1</td>\n",
       "      <td>0</td>\n",
       "      <td>...</td>\n",
       "      <td>0</td>\n",
       "      <td>0</td>\n",
       "      <td>0</td>\n",
       "      <td>0</td>\n",
       "      <td>0</td>\n",
       "      <td>0</td>\n",
       "      <td>0</td>\n",
       "      <td>0</td>\n",
       "      <td>0</td>\n",
       "      <td>0</td>\n",
       "    </tr>\n",
       "    <tr>\n",
       "      <th>4</th>\n",
       "      <td>0</td>\n",
       "      <td>0</td>\n",
       "      <td>0</td>\n",
       "      <td>0</td>\n",
       "      <td>0</td>\n",
       "      <td>0</td>\n",
       "      <td>0</td>\n",
       "      <td>0</td>\n",
       "      <td>1</td>\n",
       "      <td>0</td>\n",
       "      <td>...</td>\n",
       "      <td>0</td>\n",
       "      <td>0</td>\n",
       "      <td>0</td>\n",
       "      <td>0</td>\n",
       "      <td>0</td>\n",
       "      <td>0</td>\n",
       "      <td>0</td>\n",
       "      <td>0</td>\n",
       "      <td>0</td>\n",
       "      <td>0</td>\n",
       "    </tr>\n",
       "  </tbody>\n",
       "</table>\n",
       "<p>5 rows × 28 columns</p>\n",
       "</div>"
      ],
      "text/plain": [
       "   action  adult  adventure  animation  biography  comedy  crime  documentary  \\\n",
       "0       0      0          0          0          0       0      0            0   \n",
       "1       1      0          1          0          1       0      0            0   \n",
       "2       0      0          0          0          0       0      0            0   \n",
       "3       0      0          0          0          0       0      0            0   \n",
       "4       0      0          0          0          0       0      0            0   \n",
       "\n",
       "   drama  family  ...  news  reality-tv  romance  sci-fi  short  sport  \\\n",
       "0      0       0  ...     0           0        0       0      0      0   \n",
       "1      0       0  ...     0           0        0       0      0      0   \n",
       "2      1       0  ...     0           0        0       0      0      0   \n",
       "3      1       0  ...     0           0        0       0      0      0   \n",
       "4      1       0  ...     0           0        0       0      0      0   \n",
       "\n",
       "   talk-show  thriller  war  western  \n",
       "0          0         0    0        0  \n",
       "1          0         0    0        0  \n",
       "2          0         0    0        0  \n",
       "3          0         0    0        0  \n",
       "4          0         0    0        0  \n",
       "\n",
       "[5 rows x 28 columns]"
      ]
     },
     "execution_count": 19,
     "metadata": {},
     "output_type": "execute_result"
    }
   ],
   "source": [
    "# Criar matriz de presença: filmes nas linhas e gêneros nas colunas\n",
    "# cada filme é assinalado como pertencente (1) ou não (0) a cada um dos gêneros\n",
    "bag_generos = vetor.transform(generos_temp)\n",
    "generos = pd.DataFrame(bag_generos.todense(), columns = generos_unicos, index = generos_temp.index)\n",
    "generos = generos.drop(columns = 'n', axis = 0) #excluir coluna sem nome\n",
    "generos.head()"
   ]
  },
  {
   "cell_type": "markdown",
   "id": "1a92b213",
   "metadata": {},
   "source": [
    "Agora que temos uma matriz de presença/ausência de filmes vs. gênero, basta fazer o somatório das colunas para obter o total de filmes de cada gênero. Com esse dado, também conseguiremos obter a % de filmes por gênero:"
   ]
  },
  {
   "cell_type": "code",
   "execution_count": 20,
   "id": "6cf6437c",
   "metadata": {},
   "outputs": [
    {
     "data": {
      "text/plain": [
       "drama          35.99\n",
       "documentary    18.34\n",
       "comedy         17.08\n",
       "action          8.55\n",
       "romance         7.49\n",
       "dtype: float64"
      ]
     },
     "execution_count": 20,
     "metadata": {},
     "output_type": "execute_result"
    }
   ],
   "source": [
    "total_filmes = generos.shape[0]  #n linhas\n",
    "total_filmes_genero = generos.sum().sort_values(ascending = False) #soma e ordenação da contagem\n",
    "generos_percent = round((total_filmes_genero*100)/total_filmes,2)\n",
    "generos_percent.head()"
   ]
  },
  {
   "cell_type": "markdown",
   "id": "a7924e15",
   "metadata": {},
   "source": [
    "Agora sim, com o conjunto de dados correto, podemos elaborar o gráfico e responder nossa pergunta sobre como é a distribuição de filmes por gênero. Lembrando apenas que nesse caso - diferente do anterior - um mesmo filme pode ter sido classificado em mais de um gênero:"
   ]
  },
  {
   "cell_type": "code",
   "execution_count": 22,
   "id": "1589b69b",
   "metadata": {},
   "outputs": [
    {
     "data": {
      "image/png": "[encoded data removed]",
      "text/plain": [
       "<Figure size 1152x576 with 1 Axes>"
      ]
     },
     "metadata": {},
     "output_type": "display_data"
    }
   ],
   "source": [
    "plt.figure(figsize = (16,8))\n",
    "sns.barplot(x = generos_percent.values, \n",
    "            y = [gen.capitalize() for gen in generos_percent.index], \n",
    "            orient = \"h\", \n",
    "            color=\"lightgreen\")\n",
    "plt.ylabel('Gênero')             \n",
    "plt.xlabel(\"\\n % Filmes\")\n",
    "plt.title('% Filmes por gênero\\n', fontdict = {'fontsize':18,'fontweight':500})\n",
    "plt.show()"
   ]
  },
  {
   "cell_type": "markdown",
   "id": "5af51823",
   "metadata": {},
   "source": [
    "O gênero com maior número de filmes é drama (36%), com o dobro de filmes do gênero documentário (~18%),que vem em 2° lugar. Enquanto que filmes dos gêneros game-show são os menos frequentes (<0.001%). \n",
    "\n",
    "E você, qual é o seu gênero preferido de filme?\n",
    "\n",
    "-------------------------------------------------------------------------------------------------------------"
   ]
  },
  {
   "cell_type": "markdown",
   "id": "30e05444",
   "metadata": {},
   "source": [
    "### Pergunta 3 - Qual é a mediana das notas de avaliação por gênero de filme?\n",
    "\n",
    "É importante aqui justificarmos porque usamos a mediana, ao invés da média. A média é uma medida de tendência central muito influenciada por valores extremos (outliers) e ainda não fizemos nenhuma investigação mais apurada dos dados. Portanto, não sabemos se há outliers. A mediana também é uma medida de tendência central como a média, porém, menos influenciada por esses valores discrepante, e representa o valor que divide o conjunto de dados ao meio. Ou seja, 50% dos meus valores são menores do que a mediana, e 50% são maiores que ela."
   ]
  },
  {
   "cell_type": "markdown",
   "id": "f7bb387c",
   "metadata": {},
   "source": [
    "Primeiro, vejamos como estão estruturadas os dados das notas de avaliações no banco de dados (tabela ratings):"
   ]
  },
  {
   "cell_type": "code",
   "execution_count": 23,
   "id": "8f74168b",
   "metadata": {},
   "outputs": [
    {
     "data": {
      "text/html": [
       "<div>\n",
       "<style scoped>\n",
       "    .dataframe tbody tr th:only-of-type {\n",
       "        vertical-align: middle;\n",
       "    }\n",
       "\n",
       "    .dataframe tbody tr th {\n",
       "        vertical-align: top;\n",
       "    }\n",
       "\n",
       "    .dataframe thead th {\n",
       "        text-align: right;\n",
       "    }\n",
       "</style>\n",
       "<table border=\"1\" class=\"dataframe\">\n",
       "  <thead>\n",
       "    <tr style=\"text-align: right;\">\n",
       "      <th></th>\n",
       "      <th>title_id</th>\n",
       "      <th>rating</th>\n",
       "      <th>votes</th>\n",
       "    </tr>\n",
       "  </thead>\n",
       "  <tbody>\n",
       "    <tr>\n",
       "      <th>0</th>\n",
       "      <td>tt0000001</td>\n",
       "      <td>5.7</td>\n",
       "      <td>1725</td>\n",
       "    </tr>\n",
       "    <tr>\n",
       "      <th>1</th>\n",
       "      <td>tt0000002</td>\n",
       "      <td>6.0</td>\n",
       "      <td>211</td>\n",
       "    </tr>\n",
       "    <tr>\n",
       "      <th>2</th>\n",
       "      <td>tt0000003</td>\n",
       "      <td>6.5</td>\n",
       "      <td>1487</td>\n",
       "    </tr>\n",
       "    <tr>\n",
       "      <th>3</th>\n",
       "      <td>tt0000004</td>\n",
       "      <td>6.1</td>\n",
       "      <td>125</td>\n",
       "    </tr>\n",
       "    <tr>\n",
       "      <th>4</th>\n",
       "      <td>tt0000005</td>\n",
       "      <td>6.2</td>\n",
       "      <td>2288</td>\n",
       "    </tr>\n",
       "  </tbody>\n",
       "</table>\n",
       "</div>"
      ],
      "text/plain": [
       "    title_id  rating  votes\n",
       "0  tt0000001     5.7   1725\n",
       "1  tt0000002     6.0    211\n",
       "2  tt0000003     6.5   1487\n",
       "3  tt0000004     6.1    125\n",
       "4  tt0000005     6.2   2288"
      ]
     },
     "execution_count": 23,
     "metadata": {},
     "output_type": "execute_result"
    }
   ],
   "source": [
    "query = \"SELECT * FROM ratings LIMIT 5\"\n",
    "resultado3 = pd.read_sql_query(query,conexao)\n",
    "resultado3.head()"
   ]
  },
  {
   "cell_type": "markdown",
   "id": "93266c2a",
   "metadata": {},
   "source": [
    "Estamos interessados nas notas por gênero. Porém, não temos nenhuma coluna que nos informa o gênero do filme avaliado nesta mesma tabela de notas. Precisamos buscar esses dados em outra tabela. Mas repare que a tabela tem a coluna title_id e que esse mesmo campo está presente na tabela 'titles', como mostrado abaixo:"
   ]
  },
  {
   "cell_type": "code",
   "execution_count": 24,
   "id": "02bc2c3a",
   "metadata": {},
   "outputs": [
    {
     "data": {
      "text/html": [
       "<div>\n",
       "<style scoped>\n",
       "    .dataframe tbody tr th:only-of-type {\n",
       "        vertical-align: middle;\n",
       "    }\n",
       "\n",
       "    .dataframe tbody tr th {\n",
       "        vertical-align: top;\n",
       "    }\n",
       "\n",
       "    .dataframe thead th {\n",
       "        text-align: right;\n",
       "    }\n",
       "</style>\n",
       "<table border=\"1\" class=\"dataframe\">\n",
       "  <thead>\n",
       "    <tr style=\"text-align: right;\">\n",
       "      <th></th>\n",
       "      <th>title_id</th>\n",
       "      <th>type</th>\n",
       "      <th>primary_title</th>\n",
       "      <th>original_title</th>\n",
       "      <th>is_adult</th>\n",
       "      <th>premiered</th>\n",
       "      <th>ended</th>\n",
       "      <th>runtime_minutes</th>\n",
       "      <th>genres</th>\n",
       "    </tr>\n",
       "  </thead>\n",
       "  <tbody>\n",
       "    <tr>\n",
       "      <th>0</th>\n",
       "      <td>tt0000001</td>\n",
       "      <td>short</td>\n",
       "      <td>Carmencita</td>\n",
       "      <td>Carmencita</td>\n",
       "      <td>0</td>\n",
       "      <td>1894</td>\n",
       "      <td>None</td>\n",
       "      <td>1</td>\n",
       "      <td>Documentary,Short</td>\n",
       "    </tr>\n",
       "  </tbody>\n",
       "</table>\n",
       "</div>"
      ],
      "text/plain": [
       "    title_id   type primary_title original_title  is_adult  premiered ended  \\\n",
       "0  tt0000001  short    Carmencita     Carmencita         0       1894  None   \n",
       "\n",
       "   runtime_minutes             genres  \n",
       "0                1  Documentary,Short  "
      ]
     },
     "execution_count": 24,
     "metadata": {},
     "output_type": "execute_result"
    }
   ],
   "source": [
    "query = \"SELECT * FROM titles LIMIT 5\"\n",
    "resultado3 = pd.read_sql_query(query,conexao)\n",
    "resultado3.head(1)"
   ]
  },
  {
   "cell_type": "markdown",
   "id": "7654be9b",
   "metadata": {},
   "source": [
    "Essa última tabela traz também o gênero, além do title_id. Portanto, faremos um 'join' entre as duas tabelas (ratings e titles) para mesclar os dados de nota de avaliação e gênero dos títutos, usando o campo title_id como chave, já que ele é comum entre elas:"
   ]
  },
  {
   "cell_type": "code",
   "execution_count": 25,
   "id": "5a93702d",
   "metadata": {
    "scrolled": true
   },
   "outputs": [
    {
     "data": {
      "text/html": [
       "<div>\n",
       "<style scoped>\n",
       "    .dataframe tbody tr th:only-of-type {\n",
       "        vertical-align: middle;\n",
       "    }\n",
       "\n",
       "    .dataframe tbody tr th {\n",
       "        vertical-align: top;\n",
       "    }\n",
       "\n",
       "    .dataframe thead th {\n",
       "        text-align: right;\n",
       "    }\n",
       "</style>\n",
       "<table border=\"1\" class=\"dataframe\">\n",
       "  <thead>\n",
       "    <tr style=\"text-align: right;\">\n",
       "      <th></th>\n",
       "      <th>rating</th>\n",
       "      <th>genres</th>\n",
       "    </tr>\n",
       "  </thead>\n",
       "  <tbody>\n",
       "    <tr>\n",
       "      <th>0</th>\n",
       "      <td>4.5</td>\n",
       "      <td>\\N</td>\n",
       "    </tr>\n",
       "    <tr>\n",
       "      <th>1</th>\n",
       "      <td>6.1</td>\n",
       "      <td>Action,Adventure,Biography</td>\n",
       "    </tr>\n",
       "    <tr>\n",
       "      <th>2</th>\n",
       "      <td>5.2</td>\n",
       "      <td>Drama</td>\n",
       "    </tr>\n",
       "    <tr>\n",
       "      <th>3</th>\n",
       "      <td>4.5</td>\n",
       "      <td>Drama</td>\n",
       "    </tr>\n",
       "    <tr>\n",
       "      <th>4</th>\n",
       "      <td>3.8</td>\n",
       "      <td>Drama</td>\n",
       "    </tr>\n",
       "  </tbody>\n",
       "</table>\n",
       "</div>"
      ],
      "text/plain": [
       "   rating                      genres\n",
       "0     4.5                          \\N\n",
       "1     6.1  Action,Adventure,Biography\n",
       "2     5.2                       Drama\n",
       "3     4.5                       Drama\n",
       "4     3.8                       Drama"
      ]
     },
     "execution_count": 25,
     "metadata": {},
     "output_type": "execute_result"
    }
   ],
   "source": [
    "query = '''\n",
    "        SELECT rating, genres FROM\n",
    "        ratings JOIN titles ON ratings.title_id = titles.title_id\n",
    "        WHERE premiered <= 2022 and type = 'movie'\n",
    "        '''\n",
    "resultado3 = pd.read_sql_query(query,conexao)\n",
    "resultado3.head()"
   ]
  },
  {
   "cell_type": "markdown",
   "id": "cece87fc",
   "metadata": {},
   "source": [
    "Repare que temos o mesmo problema da pergunta anterior: alguns títulos estão enquadrados em mais de um gênero. E precisaremos implementar a mesma lógica de desagrupar os gêneros para obter notas por gêneros únicos. Como iremos utilizar essa lógica mais vezes a partir daqui, vamos encapsulá-la em uma função para garantir o reaproveitamento e o uso desse trecho de código:"
   ]
  },
  {
   "cell_type": "code",
   "execution_count": 26,
   "id": "defcc607",
   "metadata": {},
   "outputs": [],
   "source": [
    "def retornar_generos_unicos(df):\n",
    "    df['genres'] = df['genres'].str.lower().values\n",
    "    temp = df['genres'].dropna()\n",
    "    vetor = CountVectorizer(token_pattern = '(?u)\\\\b[\\\\w-]+\\\\b', analyzer = 'word').fit(temp)\n",
    "    generos_unicos =  vetor.get_feature_names()\n",
    "    generos_unicos = [genre for genre in generos_unicos if len(genre) > 1]\n",
    "    return generos_unicos"
   ]
  },
  {
   "cell_type": "code",
   "execution_count": 27,
   "id": "7cb23fd5",
   "metadata": {},
   "outputs": [
    {
     "name": "stdout",
     "output_type": "stream",
     "text": [
      "['action', 'adult', 'adventure', 'animation', 'biography', 'comedy', 'crime', 'documentary', 'drama', 'family', 'fantasy', 'film-noir', 'game-show', 'history', 'horror', 'music', 'musical', 'mystery', 'news', 'reality-tv', 'romance', 'sci-fi', 'short', 'sport', 'talk-show', 'thriller', 'war', 'western']\n"
     ]
    }
   ],
   "source": [
    "generos_unicos = retornar_generos_unicos(resultado3)\n",
    "print(generos_unicos)"
   ]
  },
  {
   "cell_type": "markdown",
   "id": "9dca9e7f",
   "metadata": {},
   "source": [
    "Com essa lista de gêneros únicos, realizaremos uma consulta que retorna os valores das notas (para o cálculo da mediana) e o número de registros de notas (dados utilizados no futuro gráfico) para cada um desses gêneros:"
   ]
  },
  {
   "cell_type": "code",
   "execution_count": 28,
   "id": "8cce1cef",
   "metadata": {},
   "outputs": [
    {
     "name": "stdout",
     "output_type": "stream",
     "text": [
      "[28540, 4078, 17545, 4624, 7977]\n"
     ]
    }
   ],
   "source": [
    "# query para contagem de notas por gênero\n",
    "contagem_notas_genero = []\n",
    "for genero in generos_unicos:\n",
    "    query = f\"SELECT COUNT(rating) from ratings JOIN titles \\\n",
    "    ON ratings.title_id = titles.title_id \\\n",
    "    WHERE genres LIKE \\'%{genero}%\\' AND type=\\'movie\\'\"\n",
    "    \n",
    "    resultado = pd.read_sql_query(query , conexao)\n",
    "    contagem_notas_genero.append(resultado.values[0][0])\n",
    "print(contagem_notas_genero[:5])"
   ]
  },
  {
   "cell_type": "code",
   "execution_count": 29,
   "id": "77c3fa38",
   "metadata": {},
   "outputs": [
    {
     "name": "stdout",
     "output_type": "stream",
     "text": [
      "[5.8, 5.8, 6.0, 6.4, 7.0]\n"
     ]
    }
   ],
   "source": [
    "# query para valores de notas por gênero\n",
    "mediana_notas_genero = []\n",
    "for genero in generos_unicos:\n",
    "    query = f\"SELECT rating, genres from ratings JOIN titles \\\n",
    "    ON ratings.title_id = titles.title_id \\\n",
    "    WHERE genres LIKE \\'%{genero}%\\' AND type=\\'movie\\'\"\n",
    "    \n",
    "    resultado = pd.read_sql_query(query , conexao)\n",
    "    mediana_notas_genero.append(np.median(resultado['rating']))\n",
    "print(mediana_notas_genero[:5])\n",
    "    "
   ]
  },
  {
   "cell_type": "markdown",
   "id": "fca475b1",
   "metadata": {},
   "source": [
    "Agora vamos reunir as duas listas em um conjunto de dados único e elaborar o gráfico:"
   ]
  },
  {
   "cell_type": "code",
   "execution_count": 30,
   "id": "011f2b3e",
   "metadata": {},
   "outputs": [
    {
     "data": {
      "text/html": [
       "<div>\n",
       "<style scoped>\n",
       "    .dataframe tbody tr th:only-of-type {\n",
       "        vertical-align: middle;\n",
       "    }\n",
       "\n",
       "    .dataframe tbody tr th {\n",
       "        vertical-align: top;\n",
       "    }\n",
       "\n",
       "    .dataframe thead th {\n",
       "        text-align: right;\n",
       "    }\n",
       "</style>\n",
       "<table border=\"1\" class=\"dataframe\">\n",
       "  <thead>\n",
       "    <tr style=\"text-align: right;\">\n",
       "      <th></th>\n",
       "      <th>genres</th>\n",
       "      <th>count</th>\n",
       "      <th>ratings</th>\n",
       "    </tr>\n",
       "  </thead>\n",
       "  <tbody>\n",
       "    <tr>\n",
       "      <th>18</th>\n",
       "      <td>news</td>\n",
       "      <td>658</td>\n",
       "      <td>7.3</td>\n",
       "    </tr>\n",
       "  </tbody>\n",
       "</table>\n",
       "</div>"
      ],
      "text/plain": [
       "   genres  count  ratings\n",
       "18   news    658      7.3"
      ]
     },
     "execution_count": 30,
     "metadata": {},
     "output_type": "execute_result"
    }
   ],
   "source": [
    "df_notas_genero = pd.DataFrame()\n",
    "df_notas_genero['genres'] = generos_unicos\n",
    "df_notas_genero['count'] = contagem_notas_genero\n",
    "df_notas_genero['ratings']= mediana_notas_genero\n",
    "df_notas_genero = df_notas_genero.sort_values(by=\"ratings\", ascending=False)\n",
    "df_notas_genero.head(1)"
   ]
  },
  {
   "cell_type": "code",
   "execution_count": 33,
   "id": "bb3a9b49",
   "metadata": {
    "scrolled": true
   },
   "outputs": [
    {
     "data": {
      "image/png": "[encoded data removed]",
      "text/plain": [
       "<Figure size 1152x720 with 1 Axes>"
      ]
     },
     "metadata": {},
     "output_type": "display_data"
    }
   ],
   "source": [
    "# Gráfico\n",
    "plt.figure(figsize = (16,10))\n",
    "sns.barplot(y=df_notas_genero['genres'], x=df_notas_genero['ratings'], color='lightblue')\n",
    "plt.ylabel('Gênero')             \n",
    "plt.xlabel('\\nMediana das Notas de Avaliação')\n",
    "plt.title('\\nAvaliação dos filmes por gênero\\n',fontdict = {'fontsize':18,'fontweight':500})\n",
    "\n",
    "# Textos\n",
    "for i in range(len(df_notas_genero.index)):\n",
    "    plt.text(4,i + 0.25, \n",
    "             f\"{df_notas_genero['count'][df_notas_genero.index[i]]} filmes\")\n",
    "    plt.text(df_notas_genero['ratings'][df_notas_genero.index[i]], i+0.25, \n",
    "             round(df_notas_genero['ratings'][df_notas_genero.index[i]],2))           \n",
    "plt.show()\n"
   ]
  },
  {
   "cell_type": "markdown",
   "id": "15e1ae07",
   "metadata": {},
   "source": [
    "Conclusão da pergunta 3: podemos ver que os gêneros de filmes com maior nota de avaliação (mediana) é 'news' e 'documentary'. Em seguida temos 'short' e 'game-show', mas perceba que o número de avaliações para esses gêneros é muito menor que os demais (21 e 3, respectivamente). Talvez futuramente valha a pena refazer as análises filtrando os gêneros que tem um número mínimo de avaliações (por exemplo, 1000). Mas por enquanto vamos ficar com esse resultado exploratório que já traz alguns insights interessantes!\n",
    "\n",
    "---------------------------------------------------------------------------------------------------------------"
   ]
  },
  {
   "cell_type": "markdown",
   "id": "2b9c619e",
   "metadata": {},
   "source": [
    "### Testando uma outra forma de obter a resposta para a pergunta 3"
   ]
  },
  {
   "cell_type": "markdown",
   "id": "0075222c",
   "metadata": {},
   "source": [
    "Apenas para fins de aprendizagem, podemos manipular os dados de uma outra forma. Ao invés de realizar o laço para fazer uma consulta para cada gênero ao banco de dados, também seria possível realizar uma única consulta para trazer todos os dados e manipular o conjunto de dados (dataframe) localmente:"
   ]
  },
  {
   "cell_type": "code",
   "execution_count": 34,
   "id": "d55f82c5",
   "metadata": {
    "scrolled": true
   },
   "outputs": [
    {
     "data": {
      "image/png": "[encoded data removed]",
      "text/plain": [
       "<Figure size 1152x720 with 1 Axes>"
      ]
     },
     "metadata": {},
     "output_type": "display_data"
    }
   ],
   "source": [
    "# consulta com notas e genero\n",
    "query = \"SELECT genres AS genero, rating AS nota  \\\n",
    "         FROM titles JOIN ratings ON titles.title_id = ratings.title_id \\\n",
    "         WHERE titles.type ='movie'\"\n",
    "r = pd.read_sql_query(query, conexao)\n",
    "r['genero'] = r['genero'].str.lower().values\n",
    "\n",
    "\n",
    "# usando a lista de gêneros únicos para filtrar notas de avaliação por genero e calcular mediana: \n",
    "df = pd.DataFrame()\n",
    "for genero in generos_unicos:\n",
    "    notas_genero_lst = [nota_r for (genero_r,nota_r) in zip(r['genero'], r['nota']) if genero in genero_r]\n",
    "    df = df.append({\n",
    "                    \"genero\": genero, \n",
    "                    \"contagem\": len(notas_genero_lst), \n",
    "                    \"nota_md\": np.median(notas_genero_lst)\n",
    "                   },ignore_index=True)\n",
    "\n",
    "df = df.sort_values(by=\"nota_md\", ascending=False)    \n",
    "df.head()\n",
    "\n",
    "\n",
    "# Gráfico\n",
    "plt.figure(figsize = (16,10))\n",
    "sns.barplot(y=df['genero'], x=df['nota_md'], color='lightblue')\n",
    "plt.ylabel('Gênero')             \n",
    "plt.xlabel('\\nMediana das Notas de Avaliação')\n",
    "plt.title('\\nAvaliação dos filmes por gênero\\n', fontdict = {'fontsize':18,'fontweight':500})\n",
    "\n",
    "# Textos\n",
    "for i in range(len(df.index)):\n",
    "    plt.text(4,i + 0.25, \n",
    "             f\"{round(df['contagem'][df.index[i]])} filmes\")\n",
    "    plt.text(df['nota_md'][df.index[i]], i+0.25, \n",
    "             round(df['nota_md'][df.index[i]],2))           \n",
    "plt.show()\n"
   ]
  },
  {
   "cell_type": "markdown",
   "id": "5481a5a3",
   "metadata": {},
   "source": [
    "______________________________________________________________________________________________________________"
   ]
  },
  {
   "cell_type": "markdown",
   "id": "a7ae2e34",
   "metadata": {},
   "source": [
    "### Pergunta 4 - Qual é a nota média geral dos filmes em relação ao ano de estréia?\n",
    "\n",
    "Será que filmes mais antigos tem menor nota de avaliação?Ou o contrário, filmes mais antigos foram mais bem avaliados pelos expectadores?Para responder essa pergunta, vamos fazer um gráfico plotando a média das notas em função do ano de estréia. Aqui (e nas próximas perguntas) vamos quebrar a regra anterior e trabalhar com a média ao invés da mediana apenas para fins de exploração e aprendizado de uma nova métrica descritiva. Mas, em uma próxima análise, será melhor investigar o comportamento dos outliers antes de tomar essa decisão! #ficadica"
   ]
  },
  {
   "cell_type": "code",
   "execution_count": 35,
   "id": "ae6e3213",
   "metadata": {
    "scrolled": true
   },
   "outputs": [
    {
     "data": {
      "text/html": [
       "<div>\n",
       "<style scoped>\n",
       "    .dataframe tbody tr th:only-of-type {\n",
       "        vertical-align: middle;\n",
       "    }\n",
       "\n",
       "    .dataframe tbody tr th {\n",
       "        vertical-align: top;\n",
       "    }\n",
       "\n",
       "    .dataframe thead th {\n",
       "        text-align: right;\n",
       "    }\n",
       "</style>\n",
       "<table border=\"1\" class=\"dataframe\">\n",
       "  <thead>\n",
       "    <tr style=\"text-align: right;\">\n",
       "      <th></th>\n",
       "      <th>avaliacao</th>\n",
       "      <th>estreia</th>\n",
       "    </tr>\n",
       "  </thead>\n",
       "  <tbody>\n",
       "    <tr>\n",
       "      <th>0</th>\n",
       "      <td>6.4</td>\n",
       "      <td>1896</td>\n",
       "    </tr>\n",
       "    <tr>\n",
       "      <th>1</th>\n",
       "      <td>4.4</td>\n",
       "      <td>1897</td>\n",
       "    </tr>\n",
       "    <tr>\n",
       "      <th>2</th>\n",
       "      <td>3.9</td>\n",
       "      <td>1899</td>\n",
       "    </tr>\n",
       "    <tr>\n",
       "      <th>3</th>\n",
       "      <td>3.7</td>\n",
       "      <td>1899</td>\n",
       "    </tr>\n",
       "    <tr>\n",
       "      <th>4</th>\n",
       "      <td>6.0</td>\n",
       "      <td>1900</td>\n",
       "    </tr>\n",
       "  </tbody>\n",
       "</table>\n",
       "</div>"
      ],
      "text/plain": [
       "   avaliacao  estreia\n",
       "0        6.4     1896\n",
       "1        4.4     1897\n",
       "2        3.9     1899\n",
       "3        3.7     1899\n",
       "4        6.0     1900"
      ]
     },
     "metadata": {},
     "output_type": "display_data"
    }
   ],
   "source": [
    "query = '''\n",
    "        SELECT rating as avaliacao,premiered as estreia \\\n",
    "        FROM ratings JOIN titles ON ratings.title_id = titles.title_id \\\n",
    "        WHERE premiered <= 2022 AND type='movie'\n",
    "        ORDER BY premiered\n",
    "        '''\n",
    "resultado4 = pd.read_sql_query(query,conexao)\n",
    "display(resultado4.head())"
   ]
  },
  {
   "cell_type": "code",
   "execution_count": 36,
   "id": "1b6eef6c",
   "metadata": {},
   "outputs": [],
   "source": [
    "anos = set(resultado4['estreia']) #conjunto dos anos: valores únicos"
   ]
  },
  {
   "cell_type": "markdown",
   "id": "5cf2a373",
   "metadata": {},
   "source": [
    "Conhecendo agora os anos registrados no conjunto de dados, vamos realizar uma iteração sobre eles, filtrando as notas para cada um dos anos e calculando a média delas:"
   ]
  },
  {
   "cell_type": "code",
   "execution_count": 37,
   "id": "62976a60",
   "metadata": {},
   "outputs": [],
   "source": [
    "notas = []\n",
    "for ano in anos:\n",
    "    notas_temp = np.mean(resultado4[resultado4['estreia'] == ano]['avaliacao'])\n",
    "    notas.append(notas_temp)  "
   ]
  },
  {
   "cell_type": "markdown",
   "id": "1f0128ab",
   "metadata": {},
   "source": [
    "E agora sim, plotar o gráfico:"
   ]
  },
  {
   "cell_type": "code",
   "execution_count": 52,
   "id": "b780df33",
   "metadata": {},
   "outputs": [
    {
     "data": {
      "image/png": "[encoded data removed]",
      "text/plain": [
       "<Figure size 1152x576 with 1 Axes>"
      ]
     },
     "metadata": {},
     "output_type": "display_data"
    }
   ],
   "source": [
    "plt.figure(figsize = (16,8))\n",
    "plt.plot(list(anos),notas, 'o', color='coral')\n",
    "plt.xlabel('\\nAno de Estreia')\n",
    "plt.ylabel('Média da nota de avaliação\\n')\n",
    "plt.title('\\nMédia de avaliação por ano de estreia dos filmes\\n',\n",
    "          fontdict = {'fontsize':15,'fontweight':500})\n",
    "plt.show()"
   ]
  },
  {
   "cell_type": "markdown",
   "id": "19040738",
   "metadata": {},
   "source": [
    "Pela figura percebemos que existe uma grande variação na nota média de avaliação dos filmes mais antigos de um ano para outro. E que filmes com data de estréia mais recente foram melhores avaliados. Poderíamos propor algumas hipóteses para explicar esse resultado mas, por ora, deixaremos como está, já que não é o foco do nosso problema de negócio!\n",
    "\n",
    "\n",
    "------------------------------------------------------------------------------------------------------------------\n"
   ]
  },
  {
   "cell_type": "markdown",
   "id": "8dec37cc",
   "metadata": {},
   "source": [
    "### Pergunta 5 - Qual é o número de filmes estreiando nos principais gêneros ao longo do tempo?\n",
    "\n",
    "Para responder essa pergunta faremos um gráfico de linha com o número de títulos que estreiaram a cada ano, mas com dados segregados por gênero. Para refinar um pouco nossa análise e melhorar a visualização, trabalharemos apenas com os gêneros principais. Ou seja, aqueles 5 gêneros com maior número de títulos. \n",
    "\n",
    "Portanto, a primeira parte da análise será focada em obter quais são esses 5 principais gêneros:"
   ]
  },
  {
   "cell_type": "code",
   "execution_count": 39,
   "id": "777856db",
   "metadata": {},
   "outputs": [
    {
     "data": {
      "text/html": [
       "<div>\n",
       "<style scoped>\n",
       "    .dataframe tbody tr th:only-of-type {\n",
       "        vertical-align: middle;\n",
       "    }\n",
       "\n",
       "    .dataframe tbody tr th {\n",
       "        vertical-align: top;\n",
       "    }\n",
       "\n",
       "    .dataframe thead th {\n",
       "        text-align: right;\n",
       "    }\n",
       "</style>\n",
       "<table border=\"1\" class=\"dataframe\">\n",
       "  <thead>\n",
       "    <tr style=\"text-align: right;\">\n",
       "      <th></th>\n",
       "      <th>genres</th>\n",
       "    </tr>\n",
       "  </thead>\n",
       "  <tbody>\n",
       "    <tr>\n",
       "      <th>0</th>\n",
       "      <td>Documentary,Short</td>\n",
       "    </tr>\n",
       "    <tr>\n",
       "      <th>1</th>\n",
       "      <td>Animation,Short</td>\n",
       "    </tr>\n",
       "    <tr>\n",
       "      <th>2</th>\n",
       "      <td>Animation,Comedy,Romance</td>\n",
       "    </tr>\n",
       "    <tr>\n",
       "      <th>3</th>\n",
       "      <td>Animation,Short</td>\n",
       "    </tr>\n",
       "    <tr>\n",
       "      <th>4</th>\n",
       "      <td>Comedy,Short</td>\n",
       "    </tr>\n",
       "  </tbody>\n",
       "</table>\n",
       "</div>"
      ],
      "text/plain": [
       "                     genres\n",
       "0         Documentary,Short\n",
       "1           Animation,Short\n",
       "2  Animation,Comedy,Romance\n",
       "3           Animation,Short\n",
       "4              Comedy,Short"
      ]
     },
     "metadata": {},
     "output_type": "display_data"
    }
   ],
   "source": [
    "# Obter coluna de gêneros do banco de dados\n",
    "query = \"SELECT genres FROM titles\"\n",
    "resultado5 = pd.read_sql_query(query, conexao)\n",
    "display(resultado5.head())"
   ]
  },
  {
   "cell_type": "code",
   "execution_count": 40,
   "id": "b5a2bf8b",
   "metadata": {},
   "outputs": [],
   "source": [
    "# Manipulação para obter gêneros únicos\n",
    "generos_unicos = retornar_generos_unicos(resultado5)"
   ]
  },
  {
   "cell_type": "code",
   "execution_count": 41,
   "id": "09bf98a5",
   "metadata": {},
   "outputs": [
    {
     "name": "stdout",
     "output_type": "stream",
     "text": [
      "[41242, 8168, 22538, 6438, 13105, 88670, 30011, 100623, 185884, 14400, 10983, 761, 14, 11523, 23994, 19189, 9056, 13146, 1383, 399, 40557, 8219, 51, 5550, 124, 28521, 8010, 6614]\n"
     ]
    }
   ],
   "source": [
    "# Obter contagem de títulos por gênero\n",
    "generos_contagem = []\n",
    "for genero in generos_unicos:\n",
    "    query = f\"SELECT COUNT(*) AS contagem \\\n",
    "    FROM titles \\\n",
    "    WHERE genres like \\'%{genero}%\\' AND type=\\'movie\\' AND premiered <=2022\"\n",
    "    \n",
    "    resultado = pd.read_sql_query(query, conexao)\n",
    "    generos_contagem.append(resultado['contagem'].values[0])\n",
    "print(generos_contagem)"
   ]
  },
  {
   "cell_type": "code",
   "execution_count": 42,
   "id": "72d4ebe3",
   "metadata": {},
   "outputs": [
    {
     "data": {
      "text/html": [
       "<div>\n",
       "<style scoped>\n",
       "    .dataframe tbody tr th:only-of-type {\n",
       "        vertical-align: middle;\n",
       "    }\n",
       "\n",
       "    .dataframe tbody tr th {\n",
       "        vertical-align: top;\n",
       "    }\n",
       "\n",
       "    .dataframe thead th {\n",
       "        text-align: right;\n",
       "    }\n",
       "</style>\n",
       "<table border=\"1\" class=\"dataframe\">\n",
       "  <thead>\n",
       "    <tr style=\"text-align: right;\">\n",
       "      <th></th>\n",
       "      <th>genre</th>\n",
       "      <th>count</th>\n",
       "    </tr>\n",
       "  </thead>\n",
       "  <tbody>\n",
       "    <tr>\n",
       "      <th>0</th>\n",
       "      <td>action</td>\n",
       "      <td>41242</td>\n",
       "    </tr>\n",
       "    <tr>\n",
       "      <th>1</th>\n",
       "      <td>adult</td>\n",
       "      <td>8168</td>\n",
       "    </tr>\n",
       "    <tr>\n",
       "      <th>2</th>\n",
       "      <td>adventure</td>\n",
       "      <td>22538</td>\n",
       "    </tr>\n",
       "    <tr>\n",
       "      <th>3</th>\n",
       "      <td>animation</td>\n",
       "      <td>6438</td>\n",
       "    </tr>\n",
       "    <tr>\n",
       "      <th>4</th>\n",
       "      <td>biography</td>\n",
       "      <td>13105</td>\n",
       "    </tr>\n",
       "  </tbody>\n",
       "</table>\n",
       "</div>"
      ],
      "text/plain": [
       "       genre  count\n",
       "0     action  41242\n",
       "1      adult   8168\n",
       "2  adventure  22538\n",
       "3  animation   6438\n",
       "4  biography  13105"
      ]
     },
     "execution_count": 42,
     "metadata": {},
     "output_type": "execute_result"
    }
   ],
   "source": [
    "# Construindo dataframe unindo dados de gênero e contagem :\n",
    "df_genero_contagem = pd.DataFrame()\n",
    "df_genero_contagem['genre'] = generos_unicos\n",
    "df_genero_contagem['count'] = generos_contagem\n",
    "df_genero_contagem.head()"
   ]
  },
  {
   "cell_type": "markdown",
   "id": "41b51d3b",
   "metadata": {},
   "source": [
    "Agora que já temos os dados de contagem para todos os gênero, podemos ordenar os dados de forma decrescente para obter os 5 gêneros com maior número de registros:"
   ]
  },
  {
   "cell_type": "code",
   "execution_count": 43,
   "id": "fec09863",
   "metadata": {},
   "outputs": [
    {
     "data": {
      "text/html": [
       "<div>\n",
       "<style scoped>\n",
       "    .dataframe tbody tr th:only-of-type {\n",
       "        vertical-align: middle;\n",
       "    }\n",
       "\n",
       "    .dataframe tbody tr th {\n",
       "        vertical-align: top;\n",
       "    }\n",
       "\n",
       "    .dataframe thead th {\n",
       "        text-align: right;\n",
       "    }\n",
       "</style>\n",
       "<table border=\"1\" class=\"dataframe\">\n",
       "  <thead>\n",
       "    <tr style=\"text-align: right;\">\n",
       "      <th></th>\n",
       "      <th>genre</th>\n",
       "      <th>count</th>\n",
       "    </tr>\n",
       "  </thead>\n",
       "  <tbody>\n",
       "    <tr>\n",
       "      <th>8</th>\n",
       "      <td>drama</td>\n",
       "      <td>185884</td>\n",
       "    </tr>\n",
       "    <tr>\n",
       "      <th>7</th>\n",
       "      <td>documentary</td>\n",
       "      <td>100623</td>\n",
       "    </tr>\n",
       "    <tr>\n",
       "      <th>5</th>\n",
       "      <td>comedy</td>\n",
       "      <td>88670</td>\n",
       "    </tr>\n",
       "    <tr>\n",
       "      <th>0</th>\n",
       "      <td>action</td>\n",
       "      <td>41242</td>\n",
       "    </tr>\n",
       "    <tr>\n",
       "      <th>20</th>\n",
       "      <td>romance</td>\n",
       "      <td>40557</td>\n",
       "    </tr>\n",
       "  </tbody>\n",
       "</table>\n",
       "</div>"
      ],
      "text/plain": [
       "          genre   count\n",
       "8         drama  185884\n",
       "7   documentary  100623\n",
       "5        comedy   88670\n",
       "0        action   41242\n",
       "20      romance   40557"
      ]
     },
     "execution_count": 43,
     "metadata": {},
     "output_type": "execute_result"
    }
   ],
   "source": [
    "top_generos = df_genero_contagem.sort_values(by='count', ascending=False).head(5)\n",
    "top_generos"
   ]
  },
  {
   "cell_type": "markdown",
   "id": "e6a768ce",
   "metadata": {},
   "source": [
    "A próxima etapa é realizar uma consulta trazendo a contagem de títulos agrupada por ano de estreia para cada um dos gêneros principais. E já podemos usar o retorno da consulta para plotar a série de cada gênero em um mesmo gráfico:"
   ]
  },
  {
   "cell_type": "code",
   "execution_count": 44,
   "id": "f8eb7adf",
   "metadata": {},
   "outputs": [
    {
     "data": {
      "image/png": "[encoded data removed]",
      "text/plain": [
       "<Figure size 1152x576 with 1 Axes>"
      ]
     },
     "metadata": {},
     "output_type": "display_data"
    }
   ],
   "source": [
    "plt.figure(figsize = (16,8))\n",
    "\n",
    "# Populando o gráfico com as consultas de número de avaliações por ano para cada gênero:\n",
    "for gen in top_generos['genre']:\n",
    "    query = f\"SELECT COUNT(*) AS contagem, premiered AS ano \\\n",
    "    FROM titles WHERE genres LIKE \\'%{gen}%\\' AND type=\\'movie\\' AND ano <=2022 \\\n",
    "    GROUP BY ano\"\n",
    "    resultado = pd.read_sql_query(query, conexao)\n",
    "    plt.plot(resultado['ano'], resultado['contagem'])\n",
    "\n",
    "plt.xlabel('\\nAno')\n",
    "plt.ylabel('Número de Filmes')\n",
    "plt.title('\\nNúmero de filmes por gênero e ano de estreia\\n', fontdict = {'fontsize':18,'fontweight':500})\n",
    "plt.legend(labels = top_generos['genre'])\n",
    "plt.show()\n",
    "    "
   ]
  },
  {
   "cell_type": "markdown",
   "id": "39c13c1d",
   "metadata": {},
   "source": [
    "Observando o nosso resultado vemos que existe uma tendência clara de aumento do número de filmes estreiando ao longo do tempo, sobretudo a partir dos anos 2000. Quais hipóteses você sugeriria para explicar esse resultado?E quais análises você faria para investigar sua hipótese?Vale o exercício de refletir e - quem sabe - implementar futuramente!\n",
    "\n",
    "-------------------------------------------------------------------------------------------------------------"
   ]
  },
  {
   "cell_type": "markdown",
   "id": "2e2f414b",
   "metadata": {},
   "source": [
    "### Pergunta 6 - Qual o filme com maior tempo de duração?Mostre como os filmes estão distribuídos em relação ao tempo de duração."
   ]
  },
  {
   "cell_type": "markdown",
   "id": "2f2cafbf",
   "metadata": {},
   "source": [
    "Para checar que filme tem maior duração podemos fazer uma consulta ordenada de forma decrescente do campo que mostra a duração. O filme mais longo será o primeiro da lista:"
   ]
  },
  {
   "cell_type": "code",
   "execution_count": 45,
   "id": "3526cf7f",
   "metadata": {},
   "outputs": [
    {
     "data": {
      "text/html": [
       "<div>\n",
       "<style scoped>\n",
       "    .dataframe tbody tr th:only-of-type {\n",
       "        vertical-align: middle;\n",
       "    }\n",
       "\n",
       "    .dataframe tbody tr th {\n",
       "        vertical-align: top;\n",
       "    }\n",
       "\n",
       "    .dataframe thead th {\n",
       "        text-align: right;\n",
       "    }\n",
       "</style>\n",
       "<table border=\"1\" class=\"dataframe\">\n",
       "  <thead>\n",
       "    <tr style=\"text-align: right;\">\n",
       "      <th></th>\n",
       "      <th>runtime</th>\n",
       "      <th>title</th>\n",
       "      <th>subtitle</th>\n",
       "    </tr>\n",
       "  </thead>\n",
       "  <tbody>\n",
       "    <tr>\n",
       "      <th>0</th>\n",
       "      <td>51420</td>\n",
       "      <td>Logistics</td>\n",
       "      <td>Logistics</td>\n",
       "    </tr>\n",
       "  </tbody>\n",
       "</table>\n",
       "</div>"
      ],
      "text/plain": [
       "   runtime      title   subtitle\n",
       "0    51420  Logistics  Logistics"
      ]
     },
     "metadata": {},
     "output_type": "display_data"
    }
   ],
   "source": [
    "query = \"SELECT runtime_minutes as runtime, primary_title as title, original_title as subtitle \\\n",
    "         FROM titles WHERE type = 'movie' AND runtime != 'NaN' \\\n",
    "         ORDER BY runtime DESC \\\n",
    "         LIMIT 1\"\n",
    "resultado6 = pd.read_sql_query(query,conexao)\n",
    "display(resultado6)"
   ]
  },
  {
   "cell_type": "markdown",
   "id": "f92218ca",
   "metadata": {},
   "source": [
    "O filme com maior duração registrado na plataforma é o \"Logistics\", com 51420 minutos de duração. Isso equivale a mais de 857 horas de filme!E não, isto não é um erro. O filme realmente existe e tem esta duração, sendo considerado o filme mais longo da história (https://en.wikipedia.org/wiki/Logistics_(film)). Haja fôlego pra maratonar esse título hein?"
   ]
  },
  {
   "cell_type": "markdown",
   "id": "7735861a",
   "metadata": {},
   "source": [
    "Vamos agora checar a distribuição dos valores de duração dos filmes usando quartis (Q1, Q2 e Q3). Os quartis são os valores que dividem o conjunto de dados em 4 partes iguais, com cada uma delas contendo 25% dos valores da distribuição. O segundo quartil (Q2) é também a mediana, o valor que divide a distribuição de valores ao meio. Ou seja, 50% dos valores do conjunto de dados são menores que esse valor e 50% são maiores. Vejamos quais são os quartis dessa distribuição:"
   ]
  },
  {
   "cell_type": "code",
   "execution_count": 46,
   "id": "cd67d2bb",
   "metadata": {},
   "outputs": [
    {
     "name": "stdout",
     "output_type": "stream",
     "text": [
      " Quartil 1: 74.0\n",
      " Quartil 2: 89.0\n",
      " Quartil 3: 100.0\n"
     ]
    }
   ],
   "source": [
    "query = \"SELECT runtime_minutes as runtime \\\n",
    "         FROM titles WHERE type = 'movie' AND runtime != 'NaN'\"\n",
    "\n",
    "resultado6 = pd.read_sql_query(query,conexao)\n",
    "\n",
    "#calculando os quartis\n",
    "quartis = [25,50,75]\n",
    "for index,q in enumerate(quartis):\n",
    "    valor = round(np.percentile(resultado6['runtime'].values,q),2)\n",
    "    print(f\" Quartil {index+1}: {valor}\")"
   ]
  },
  {
   "cell_type": "markdown",
   "id": "f15b4cb2",
   "metadata": {},
   "source": [
    "Temos então que a mediana (Q2) vale 89 minutos. Ou seja, metade dos filmes duram menos que esse tempo. Enquanto que 25% dos filmes duram menos que 74 minutos (Q1). Já entre os filmes mais longos, apenas 25% duram mais que 100 minutos (Q3)."
   ]
  },
  {
   "cell_type": "markdown",
   "id": "52491ff4",
   "metadata": {},
   "source": [
    "______________________________________________________________________________________________________________"
   ]
  },
  {
   "cell_type": "markdown",
   "id": "29a02f2b",
   "metadata": {},
   "source": [
    "### Pergunta 7 - Qual é a relação entre o gênero e a duração dos filmes?"
   ]
  },
  {
   "cell_type": "markdown",
   "id": "a89fe295",
   "metadata": {},
   "source": [
    "Para esta pergunta, iremos resumir a duração dos filme em uma medida de tendência, a média. Portanto, iremos investigar qual é a relação da duração média dos filmes com o gênero. Quais os gêneros de filme com maior duração média?E filmes de quais gêneros duram menos, em média?Vamos investigar!\n",
    "\n",
    "Lembrando que, como estamos trabalhando mais uma vez com os gêneros, precisaremos usar nossa função que retorna os gêneros únicos (célula 96). E, a partir daí, calcular a duração média para cada um deles."
   ]
  },
  {
   "cell_type": "code",
   "execution_count": 47,
   "id": "15c86666",
   "metadata": {},
   "outputs": [
    {
     "data": {
      "text/html": [
       "<div>\n",
       "<style scoped>\n",
       "    .dataframe tbody tr th:only-of-type {\n",
       "        vertical-align: middle;\n",
       "    }\n",
       "\n",
       "    .dataframe tbody tr th {\n",
       "        vertical-align: top;\n",
       "    }\n",
       "\n",
       "    .dataframe thead th {\n",
       "        text-align: right;\n",
       "    }\n",
       "</style>\n",
       "<table border=\"1\" class=\"dataframe\">\n",
       "  <thead>\n",
       "    <tr style=\"text-align: right;\">\n",
       "      <th></th>\n",
       "      <th>genres</th>\n",
       "      <th>runtime_minutes</th>\n",
       "    </tr>\n",
       "  </thead>\n",
       "  <tbody>\n",
       "    <tr>\n",
       "      <th>0</th>\n",
       "      <td>\\N</td>\n",
       "      <td>100</td>\n",
       "    </tr>\n",
       "    <tr>\n",
       "      <th>1</th>\n",
       "      <td>Action,Adventure,Biography</td>\n",
       "      <td>70</td>\n",
       "    </tr>\n",
       "    <tr>\n",
       "      <th>2</th>\n",
       "      <td>Drama</td>\n",
       "      <td>90</td>\n",
       "    </tr>\n",
       "    <tr>\n",
       "      <th>3</th>\n",
       "      <td>Adventure,Fantasy</td>\n",
       "      <td>120</td>\n",
       "    </tr>\n",
       "    <tr>\n",
       "      <th>4</th>\n",
       "      <td>Adventure,Drama</td>\n",
       "      <td>58</td>\n",
       "    </tr>\n",
       "  </tbody>\n",
       "</table>\n",
       "</div>"
      ],
      "text/plain": [
       "                       genres  runtime_minutes\n",
       "0                          \\N              100\n",
       "1  Action,Adventure,Biography               70\n",
       "2                       Drama               90\n",
       "3           Adventure,Fantasy              120\n",
       "4             Adventure,Drama               58"
      ]
     },
     "execution_count": 47,
     "metadata": {},
     "output_type": "execute_result"
    }
   ],
   "source": [
    "# obtendo dados de duração e gênero\n",
    "query = \"SELECT genres, runtime_minutes FROM titles \\\n",
    "         WHERE type = 'movie' AND runtime_minutes != 'NaN'\"\n",
    "resultado7 = pd.read_sql_query(query,conexao)\n",
    "resultado7.head()"
   ]
  },
  {
   "cell_type": "code",
   "execution_count": 48,
   "id": "36524d8b",
   "metadata": {},
   "outputs": [
    {
     "data": {
      "text/plain": [
       "['action', 'adult', 'adventure', 'animation', 'biography', 'comedy']"
      ]
     },
     "execution_count": 48,
     "metadata": {},
     "output_type": "execute_result"
    }
   ],
   "source": [
    "# obtendo gêneros únicos:\n",
    "generos_unicos = retornar_generos_unicos(resultado7)\n",
    "generos_unicos[:6]"
   ]
  },
  {
   "cell_type": "markdown",
   "id": "9005943f",
   "metadata": {},
   "source": [
    "Vamos agora percorrer a lista de gêneros únicos e consultar os dados de duração para cada um deles no banco. E, a partir daí, já calcular a média desses dados filtrados. Vamos também ter cuidado para fazer a consulta desconsiderando títulos de filmes que não possuem registros de duração (runtime = NaN):"
   ]
  },
  {
   "cell_type": "code",
   "execution_count": 49,
   "id": "4b376ed9",
   "metadata": {},
   "outputs": [
    {
     "name": "stdout",
     "output_type": "stream",
     "text": [
      "[99.51435931685909, 77.8566943674977, 92.44937032865772, 82.23054545454545, 88.36560447579664, 92.60741436069648]\n"
     ]
    }
   ],
   "source": [
    "duracao_generos = []\n",
    "for genero in generos_unicos:\n",
    "    query = f\"SELECT runtime_minutes AS runtime \\\n",
    "                FROM titles \\\n",
    "                WHERE genres LIKE '%{genero}%' AND type = 'movie' AND runtime != 'NaN'\"\n",
    "    resultado_temp = pd.read_sql_query(query, conexao)\n",
    "    duracao_generos.append(np.mean(resultado_temp['runtime'])) #media por gênero\n",
    "    \n",
    "print(duracao_generos[:6])"
   ]
  },
  {
   "cell_type": "markdown",
   "id": "e26cd267",
   "metadata": {},
   "source": [
    "Já que temos a lista de gêneros únicos e a média para cada um deles, vamos preparar o conjunto de dados usados no gráfico concatenando essas 2 listas em um mesmo dataframe:"
   ]
  },
  {
   "cell_type": "code",
   "execution_count": 50,
   "id": "69724d4c",
   "metadata": {},
   "outputs": [
    {
     "data": {
      "text/html": [
       "<div>\n",
       "<style scoped>\n",
       "    .dataframe tbody tr th:only-of-type {\n",
       "        vertical-align: middle;\n",
       "    }\n",
       "\n",
       "    .dataframe tbody tr th {\n",
       "        vertical-align: top;\n",
       "    }\n",
       "\n",
       "    .dataframe thead th {\n",
       "        text-align: right;\n",
       "    }\n",
       "</style>\n",
       "<table border=\"1\" class=\"dataframe\">\n",
       "  <thead>\n",
       "    <tr style=\"text-align: right;\">\n",
       "      <th></th>\n",
       "      <th>genre</th>\n",
       "      <th>runtime</th>\n",
       "    </tr>\n",
       "  </thead>\n",
       "  <tbody>\n",
       "    <tr>\n",
       "      <th>0</th>\n",
       "      <td>action</td>\n",
       "      <td>99.514359</td>\n",
       "    </tr>\n",
       "    <tr>\n",
       "      <th>16</th>\n",
       "      <td>musical</td>\n",
       "      <td>98.580867</td>\n",
       "    </tr>\n",
       "    <tr>\n",
       "      <th>20</th>\n",
       "      <td>romance</td>\n",
       "      <td>97.780915</td>\n",
       "    </tr>\n",
       "    <tr>\n",
       "      <th>8</th>\n",
       "      <td>drama</td>\n",
       "      <td>96.441670</td>\n",
       "    </tr>\n",
       "    <tr>\n",
       "      <th>26</th>\n",
       "      <td>war</td>\n",
       "      <td>95.599793</td>\n",
       "    </tr>\n",
       "    <tr>\n",
       "      <th>25</th>\n",
       "      <td>thriller</td>\n",
       "      <td>95.557818</td>\n",
       "    </tr>\n",
       "  </tbody>\n",
       "</table>\n",
       "</div>"
      ],
      "text/plain": [
       "       genre    runtime\n",
       "0     action  99.514359\n",
       "16   musical  98.580867\n",
       "20   romance  97.780915\n",
       "8      drama  96.441670\n",
       "26       war  95.599793\n",
       "25  thriller  95.557818"
      ]
     },
     "metadata": {},
     "output_type": "display_data"
    }
   ],
   "source": [
    "df_genero_runtime = pd.DataFrame()\n",
    "df_genero_runtime['genre'] = generos_unicos\n",
    "df_genero_runtime['runtime'] = duracao_generos\n",
    "df_genero_runtime = df_genero_runtime.sort_values(by = 'runtime', ascending = False)\n",
    "display(df_genero_runtime[:6])"
   ]
  },
  {
   "cell_type": "markdown",
   "id": "016d678b",
   "metadata": {},
   "source": [
    "E agora sim elaborar o gráfico para extrair as respostas que estamos buscando:"
   ]
  },
  {
   "cell_type": "code",
   "execution_count": 51,
   "id": "692b9752",
   "metadata": {},
   "outputs": [
    {
     "data": {
      "image/png": "[encoded data removed]",
      "text/plain": [
       "<Figure size 1152x720 with 1 Axes>"
      ]
     },
     "metadata": {},
     "output_type": "display_data"
    }
   ],
   "source": [
    "# Gráfico\n",
    "plt.figure(figsize = (16,10))\n",
    "sns.barplot(y = df_genero_runtime.genre, x = df_genero_runtime.runtime, orient='h', color='#D1C2F0')\n",
    "\n",
    "# Loop para anotar a média\n",
    "for i in range(len(df_genero_runtime.index)):\n",
    "    plt.text(df_genero_runtime.runtime[df_genero_runtime.index[i]],\n",
    "             i + 0.25,\n",
    "             round(df_genero_runtime[\"runtime\"][df_genero_runtime.index[i]], 2))\n",
    "\n",
    "plt.ylabel('Gênero')             \n",
    "plt.xlabel('\\nTempo Médio de Duração (Minutos)')\n",
    "plt.title('\\nRelação entre duração média e gênero dos filmes\\n')\n",
    "plt.show()\n"
   ]
  },
  {
   "cell_type": "markdown",
   "id": "50b404b2",
   "metadata": {},
   "source": [
    "De acordo com o nosso resultado vemos que os gêneros de filme com maior duração média é ação (99'), musical (98') e romance (97'). E os de menor duração, claro, são os do gênero 'short' (21'). Nesse ponto não temos nenhuma surpresa, nao é  mesmo?\n",
    "\n",
    "-----------------------------------------------------------------------------------------------"
   ]
  },
  {
   "cell_type": "markdown",
   "id": "b1defb92",
   "metadata": {},
   "source": [
    "### Pergunta 8 - Qual o número de filmes produzidos por país?"
   ]
  },
  {
   "cell_type": "markdown",
   "id": "59c93554",
   "metadata": {},
   "source": [
    "Precisamos fazer a contagem de títulos de filmes produzidos por país. Na tabela onde está o país de origem também há um campo title_id, que permitiria fazer a contagem agrupada por país usando apenas essa tabela. Porém, como estamos trabalhando apenas com a categoria filmes (type = 'movie') e esse campo está em outra tabela, mais uma vez vamos fazer o JOIN para trazer dados de esquemas diferentes:"
   ]
  },
  {
   "cell_type": "code",
   "execution_count": 290,
   "id": "d6713f8b",
   "metadata": {},
   "outputs": [
    {
     "data": {
      "text/html": [
       "<div>\n",
       "<style scoped>\n",
       "    .dataframe tbody tr th:only-of-type {\n",
       "        vertical-align: middle;\n",
       "    }\n",
       "\n",
       "    .dataframe tbody tr th {\n",
       "        vertical-align: top;\n",
       "    }\n",
       "\n",
       "    .dataframe thead th {\n",
       "        text-align: right;\n",
       "    }\n",
       "</style>\n",
       "<table border=\"1\" class=\"dataframe\">\n",
       "  <thead>\n",
       "    <tr style=\"text-align: right;\">\n",
       "      <th></th>\n",
       "      <th>count</th>\n",
       "      <th>region</th>\n",
       "    </tr>\n",
       "  </thead>\n",
       "  <tbody>\n",
       "    <tr>\n",
       "      <th>0</th>\n",
       "      <td>22</td>\n",
       "      <td>AD</td>\n",
       "    </tr>\n",
       "    <tr>\n",
       "      <th>1</th>\n",
       "      <td>318</td>\n",
       "      <td>AE</td>\n",
       "    </tr>\n",
       "    <tr>\n",
       "      <th>2</th>\n",
       "      <td>108</td>\n",
       "      <td>AF</td>\n",
       "    </tr>\n",
       "    <tr>\n",
       "      <th>3</th>\n",
       "      <td>12</td>\n",
       "      <td>AG</td>\n",
       "    </tr>\n",
       "    <tr>\n",
       "      <th>4</th>\n",
       "      <td>1229</td>\n",
       "      <td>AL</td>\n",
       "    </tr>\n",
       "  </tbody>\n",
       "</table>\n",
       "</div>"
      ],
      "text/plain": [
       "   count region\n",
       "0     22     AD\n",
       "1    318     AE\n",
       "2    108     AF\n",
       "3     12     AG\n",
       "4   1229     AL"
      ]
     },
     "metadata": {},
     "output_type": "display_data"
    }
   ],
   "source": [
    "query = \"SELECT COUNT(*) as count, region \\\n",
    "         FROM akas JOIN titles ON akas.title_id = titles.title_id \\\n",
    "         WHERE akas.region != 'None' AND titles.type = 'movie' \\\n",
    "         GROUP BY region\"\n",
    "\n",
    "resultado8 = pd.read_sql_query(query,conexao)\n",
    "display(resultado8.head())"
   ]
  },
  {
   "cell_type": "markdown",
   "id": "e462a4bf",
   "metadata": {},
   "source": [
    "Perceba que na coluna 'region' temos a sigla dos países que produziram os filmes, ao invés do nome por extenso. O resultado apresentado desta forma pode gerar alguma dificuldade de interpretação para quem não está tão familiarizado com os dados, como por exemplo, gestores e tomadores de decisçao. Portanto, vamos usar uma biblioteca para retornar o nome do país a partir da sigla:"
   ]
  },
  {
   "cell_type": "code",
   "execution_count": 291,
   "id": "1f1650f6",
   "metadata": {},
   "outputs": [],
   "source": [
    "nomes_paises = []\n",
    "contagem = []\n",
    "\n",
    "for i in range(resultado8.shape[0]):\n",
    "    try:\n",
    "        pais_sigla = resultado8['region'].values[i]\n",
    "        nomes_paises.append(pycountry.countries.get(alpha_2 = pais_sigla).name)\n",
    "        contagem.append(resultado8['count'].values[i])\n",
    "    except:\n",
    "        continue"
   ]
  },
  {
   "cell_type": "markdown",
   "id": "268a6512",
   "metadata": {},
   "source": [
    "Usamos o bloco TRY/EXCEPT com a cláusula \"continue\" para não interromper o código caso haja alguma exceção, como uma sigla de país para a qual não existe nome correspondente.\n",
    "\n",
    "Vamos agora reunir os dados de contagem e nome de países em um mesmo dataframe:"
   ]
  },
  {
   "cell_type": "code",
   "execution_count": 294,
   "id": "1464fbba",
   "metadata": {},
   "outputs": [
    {
     "data": {
      "text/html": [
       "<div>\n",
       "<style scoped>\n",
       "    .dataframe tbody tr th:only-of-type {\n",
       "        vertical-align: middle;\n",
       "    }\n",
       "\n",
       "    .dataframe tbody tr th {\n",
       "        vertical-align: top;\n",
       "    }\n",
       "\n",
       "    .dataframe thead th {\n",
       "        text-align: right;\n",
       "    }\n",
       "</style>\n",
       "<table border=\"1\" class=\"dataframe\">\n",
       "  <thead>\n",
       "    <tr style=\"text-align: right;\">\n",
       "      <th></th>\n",
       "      <th>country</th>\n",
       "      <th>count</th>\n",
       "    </tr>\n",
       "  </thead>\n",
       "  <tbody>\n",
       "    <tr>\n",
       "      <th>198</th>\n",
       "      <td>United States</td>\n",
       "      <td>258160</td>\n",
       "    </tr>\n",
       "    <tr>\n",
       "      <th>65</th>\n",
       "      <td>United Kingdom</td>\n",
       "      <td>114649</td>\n",
       "    </tr>\n",
       "    <tr>\n",
       "      <th>96</th>\n",
       "      <td>Japan</td>\n",
       "      <td>87929</td>\n",
       "    </tr>\n",
       "    <tr>\n",
       "      <th>63</th>\n",
       "      <td>France</td>\n",
       "      <td>81178</td>\n",
       "    </tr>\n",
       "    <tr>\n",
       "      <th>89</th>\n",
       "      <td>India</td>\n",
       "      <td>71334</td>\n",
       "    </tr>\n",
       "  </tbody>\n",
       "</table>\n",
       "</div>"
      ],
      "text/plain": [
       "            country   count\n",
       "198   United States  258160\n",
       "65   United Kingdom  114649\n",
       "96            Japan   87929\n",
       "63           France   81178\n",
       "89            India   71334"
      ]
     },
     "metadata": {},
     "output_type": "display_data"
    }
   ],
   "source": [
    "df_filmes_paises = pd.DataFrame()\n",
    "df_filmes_paises['country'] = nomes_paises\n",
    "df_filmes_paises['count'] = contagem\n",
    "df_filmes_paises = df_filmes_paises.sort_values(by = 'count', ascending = False)\n",
    "display(df_filmes_paises.head())"
   ]
  },
  {
   "cell_type": "markdown",
   "id": "0cd967ba",
   "metadata": {},
   "source": [
    "E agora sim podemos plotar o gráfico. Porém, para isso usaremos apenas os 10 países com maior número de produções para não poluir tanto a nossa visualização e facilitar a nossa interpretação. Ou seja, vamos apresentar um TOP10 de países produtores de filmes:"
   ]
  },
  {
   "cell_type": "code",
   "execution_count": 309,
   "id": "e7fd50d7",
   "metadata": {},
   "outputs": [
    {
     "data": {
      "image/png": "[encoded data removed]",
      "text/plain": [
       "<Figure size 1800x864 with 1 Axes>"
      ]
     },
     "metadata": {},
     "output_type": "display_data"
    }
   ],
   "source": [
    "plt.figure(figsize = (25,12))\n",
    "\n",
    "sns.set_style(\"whitegrid\", {'axes.grid' : False})\n",
    "b = sns.barplot(x = df_filmes_paises[:10]['country'], y = df_filmes_paises[:10]['count'],color=\"#C7F7E5\")\n",
    "b.axes.set_title(\"Número de filmes por país\\n\",fontsize=22)\n",
    "b.set_xlabel(\"\",fontsize=20)\n",
    "b.set_ylabel(\"Número de Filmes\\n\",fontsize=20)\n",
    "b.tick_params(labelsize=18)\n",
    "\n",
    "for p in b.patches:\n",
    "    b.annotate(format(p.get_height(), '.0f'), \n",
    "                   (p.get_x() + p.get_width() / 2., p.get_height()), \n",
    "                   size = '18', ha = 'center', va = 'center', \n",
    "                   xytext = (0, 9), textcoords = 'offset points')\n",
    "\n",
    "plt.show()"
   ]
  },
  {
   "cell_type": "markdown",
   "id": "ab7341e2",
   "metadata": {},
   "source": [
    "Vemos pelo nosso gráfico que os Estados Unidos é - de longe - o maior produtor de filmes no mundo (segundo a fonte que consultamos) com mais que o dobro do 2° colocado, o Reino Unido. É interessante notar também que o Brasil figura no TOP10 maiores produtores, ocupando a 9ª colocação."
   ]
  },
  {
   "cell_type": "markdown",
   "id": "0aaea927",
   "metadata": {},
   "source": [
    "______________________________________________________________________________________________________________"
   ]
  },
  {
   "cell_type": "markdown",
   "id": "d90b3240",
   "metadata": {},
   "source": [
    "### Pergunta 9 e 10 - Quais são os TOP10 melhores e piores filmes?"
   ]
  },
  {
   "cell_type": "markdown",
   "id": "45cf782c",
   "metadata": {},
   "source": [
    "Para responder essa pergunta, faz sentido buscar filmes que tiveram uma quantidade mínima de avaliações, para que nosso resultado não seja muito influenciado por filmes com poucas notas e/ou com valores discrepantes. Para isso, vamos usar o número de corte de 25mil avaliações. Vamos lá então em busca no nosso TOP10. Primeiro, buscando os melhores filmes:"
   ]
  },
  {
   "cell_type": "code",
   "execution_count": 310,
   "id": "5b8edc8c",
   "metadata": {},
   "outputs": [
    {
     "data": {
      "text/html": [
       "<div>\n",
       "<style scoped>\n",
       "    .dataframe tbody tr th:only-of-type {\n",
       "        vertical-align: middle;\n",
       "    }\n",
       "\n",
       "    .dataframe tbody tr th {\n",
       "        vertical-align: top;\n",
       "    }\n",
       "\n",
       "    .dataframe thead th {\n",
       "        text-align: right;\n",
       "    }\n",
       "</style>\n",
       "<table border=\"1\" class=\"dataframe\">\n",
       "  <thead>\n",
       "    <tr style=\"text-align: right;\">\n",
       "      <th></th>\n",
       "      <th>movie</th>\n",
       "      <th>genres</th>\n",
       "      <th>rating</th>\n",
       "    </tr>\n",
       "  </thead>\n",
       "  <tbody>\n",
       "    <tr>\n",
       "      <th>0</th>\n",
       "      <td>The Shawshank Redemption</td>\n",
       "      <td>Drama</td>\n",
       "      <td>9.3</td>\n",
       "    </tr>\n",
       "    <tr>\n",
       "      <th>1</th>\n",
       "      <td>The Chaos Class</td>\n",
       "      <td>Comedy,Drama</td>\n",
       "      <td>9.3</td>\n",
       "    </tr>\n",
       "    <tr>\n",
       "      <th>2</th>\n",
       "      <td>The Godfather</td>\n",
       "      <td>Crime,Drama</td>\n",
       "      <td>9.2</td>\n",
       "    </tr>\n",
       "    <tr>\n",
       "      <th>3</th>\n",
       "      <td>CM101MMXI Fundamentals</td>\n",
       "      <td>Comedy,Documentary</td>\n",
       "      <td>9.2</td>\n",
       "    </tr>\n",
       "    <tr>\n",
       "      <th>4</th>\n",
       "      <td>Soorarai Pottru</td>\n",
       "      <td>Drama</td>\n",
       "      <td>9.1</td>\n",
       "    </tr>\n",
       "    <tr>\n",
       "      <th>5</th>\n",
       "      <td>12 Angry Men</td>\n",
       "      <td>Crime,Drama</td>\n",
       "      <td>9.0</td>\n",
       "    </tr>\n",
       "    <tr>\n",
       "      <th>6</th>\n",
       "      <td>The Godfather: Part II</td>\n",
       "      <td>Crime,Drama</td>\n",
       "      <td>9.0</td>\n",
       "    </tr>\n",
       "    <tr>\n",
       "      <th>7</th>\n",
       "      <td>The Dark Knight</td>\n",
       "      <td>Action,Crime,Drama</td>\n",
       "      <td>9.0</td>\n",
       "    </tr>\n",
       "    <tr>\n",
       "      <th>8</th>\n",
       "      <td>David Attenborough: A Life on Our Planet</td>\n",
       "      <td>Biography,Documentary</td>\n",
       "      <td>9.0</td>\n",
       "    </tr>\n",
       "    <tr>\n",
       "      <th>9</th>\n",
       "      <td>Schindler's List</td>\n",
       "      <td>Biography,Drama,History</td>\n",
       "      <td>8.9</td>\n",
       "    </tr>\n",
       "  </tbody>\n",
       "</table>\n",
       "</div>"
      ],
      "text/plain": [
       "                                      movie                   genres  rating\n",
       "0                  The Shawshank Redemption                    Drama     9.3\n",
       "1                           The Chaos Class             Comedy,Drama     9.3\n",
       "2                             The Godfather              Crime,Drama     9.2\n",
       "3                    CM101MMXI Fundamentals       Comedy,Documentary     9.2\n",
       "4                           Soorarai Pottru                    Drama     9.1\n",
       "5                              12 Angry Men              Crime,Drama     9.0\n",
       "6                    The Godfather: Part II              Crime,Drama     9.0\n",
       "7                           The Dark Knight       Action,Crime,Drama     9.0\n",
       "8  David Attenborough: A Life on Our Planet    Biography,Documentary     9.0\n",
       "9                          Schindler's List  Biography,Drama,History     8.9"
      ]
     },
     "metadata": {},
     "output_type": "display_data"
    }
   ],
   "source": [
    "query = \"SELECT primary_title AS movie, genres, rating \\\n",
    "         FROM titles JOIN ratings ON  titles.title_id = ratings.title_id \\\n",
    "         WHERE titles.type = 'movie' AND ratings.votes >= 25000 \\\n",
    "         ORDER BY rating DESC \\\n",
    "         LIMIT 10\"\n",
    "\n",
    "top10_melhores_filmes = pd.read_sql_query(query, conexao)\n",
    "display(top10_melhores_filmes)"
   ]
  },
  {
   "cell_type": "markdown",
   "id": "26fbdccf",
   "metadata": {},
   "source": [
    "E agora os piores:"
   ]
  },
  {
   "cell_type": "code",
   "execution_count": 311,
   "id": "53a636c9",
   "metadata": {},
   "outputs": [
    {
     "data": {
      "text/html": [
       "<div>\n",
       "<style scoped>\n",
       "    .dataframe tbody tr th:only-of-type {\n",
       "        vertical-align: middle;\n",
       "    }\n",
       "\n",
       "    .dataframe tbody tr th {\n",
       "        vertical-align: top;\n",
       "    }\n",
       "\n",
       "    .dataframe thead th {\n",
       "        text-align: right;\n",
       "    }\n",
       "</style>\n",
       "<table border=\"1\" class=\"dataframe\">\n",
       "  <thead>\n",
       "    <tr style=\"text-align: right;\">\n",
       "      <th></th>\n",
       "      <th>movie</th>\n",
       "      <th>genres</th>\n",
       "      <th>rating</th>\n",
       "    </tr>\n",
       "  </thead>\n",
       "  <tbody>\n",
       "    <tr>\n",
       "      <th>0</th>\n",
       "      <td>Cumali Ceber</td>\n",
       "      <td>Comedy</td>\n",
       "      <td>1.0</td>\n",
       "    </tr>\n",
       "    <tr>\n",
       "      <th>1</th>\n",
       "      <td>Smolensk</td>\n",
       "      <td>Drama,Thriller</td>\n",
       "      <td>1.1</td>\n",
       "    </tr>\n",
       "    <tr>\n",
       "      <th>2</th>\n",
       "      <td>Sadak 2</td>\n",
       "      <td>Action,Drama</td>\n",
       "      <td>1.1</td>\n",
       "    </tr>\n",
       "    <tr>\n",
       "      <th>3</th>\n",
       "      <td>Reis</td>\n",
       "      <td>Biography,Drama</td>\n",
       "      <td>1.4</td>\n",
       "    </tr>\n",
       "    <tr>\n",
       "      <th>4</th>\n",
       "      <td>Justin Bieber: Never Say Never</td>\n",
       "      <td>Documentary,Music</td>\n",
       "      <td>1.6</td>\n",
       "    </tr>\n",
       "    <tr>\n",
       "      <th>5</th>\n",
       "      <td>Manos: the Hands of Fate</td>\n",
       "      <td>Drama,Horror</td>\n",
       "      <td>1.8</td>\n",
       "    </tr>\n",
       "    <tr>\n",
       "      <th>6</th>\n",
       "      <td>Radhe</td>\n",
       "      <td>Action,Crime,Thriller</td>\n",
       "      <td>1.8</td>\n",
       "    </tr>\n",
       "    <tr>\n",
       "      <th>7</th>\n",
       "      <td>Superbabies: Baby Geniuses 2</td>\n",
       "      <td>Comedy,Family,Sci-Fi</td>\n",
       "      <td>1.9</td>\n",
       "    </tr>\n",
       "    <tr>\n",
       "      <th>8</th>\n",
       "      <td>The Hottie &amp; the Nottie</td>\n",
       "      <td>Comedy,Romance</td>\n",
       "      <td>1.9</td>\n",
       "    </tr>\n",
       "    <tr>\n",
       "      <th>9</th>\n",
       "      <td>Disaster Movie</td>\n",
       "      <td>Comedy,Sci-Fi</td>\n",
       "      <td>1.9</td>\n",
       "    </tr>\n",
       "  </tbody>\n",
       "</table>\n",
       "</div>"
      ],
      "text/plain": [
       "                            movie                 genres  rating\n",
       "0                    Cumali Ceber                 Comedy     1.0\n",
       "1                        Smolensk         Drama,Thriller     1.1\n",
       "2                         Sadak 2           Action,Drama     1.1\n",
       "3                            Reis        Biography,Drama     1.4\n",
       "4  Justin Bieber: Never Say Never      Documentary,Music     1.6\n",
       "5        Manos: the Hands of Fate           Drama,Horror     1.8\n",
       "6                           Radhe  Action,Crime,Thriller     1.8\n",
       "7    Superbabies: Baby Geniuses 2   Comedy,Family,Sci-Fi     1.9\n",
       "8         The Hottie & the Nottie         Comedy,Romance     1.9\n",
       "9                  Disaster Movie          Comedy,Sci-Fi     1.9"
      ]
     },
     "metadata": {},
     "output_type": "display_data"
    }
   ],
   "source": [
    "query = \"SELECT primary_title AS movie, genres, rating \\\n",
    "         FROM titles JOIN ratings ON  titles.title_id = ratings.title_id \\\n",
    "         WHERE titles.type = 'movie' AND ratings.votes >= 25000 \\\n",
    "         ORDER BY rating \\\n",
    "         LIMIT 10\"\n",
    "\n",
    "top10_piores_filmes = pd.read_sql_query(query, conexao)\n",
    "display(top10_piores_filmes)"
   ]
  },
  {
   "cell_type": "markdown",
   "id": "b7fbd650",
   "metadata": {},
   "source": [
    "E aí, concorda com essa lista?Já assistiu alguns desses filmes?Seu filme preferido ficou de fora?Bom...o meu também. Mas também pode ser uma boa oportunidade para descobrir novos filmes.\n",
    "\n",
    "\n",
    "Tá esperando o que pra começar a maratona?"
   ]
  },
  {
   "cell_type": "markdown",
   "id": "4a2f56c6",
   "metadata": {},
   "source": [
    "<img src=\"imagens\\frog.jpg\" width=\"450\" height=\"500\" align=\"center\">"
   ]
  },
  {
   "cell_type": "markdown",
   "id": "6795d378",
   "metadata": {},
   "source": [
    "-------------------------------------------------------------------------------------------------------------\n",
    "### Referências:\n",
    "\n",
    "1. Curso Python Fundamentos Para Análise de Dados (Data Science Academy): https://www.datascienceacademy.com.br/course/python-fundamentos\n",
    "\n",
    "2. IMDb Datasets: https://www.imdb.com/interfaces/\n",
    "\n",
    "3. Documentação Scikit-learn: https://scikit-learn.org/stable/modules/generated/sklearn.feature_extraction.text.CountVectorizer.html\n",
    "\n",
    "4. Artigo sobre one-hot enconding: https://www.educative.io/edpresso/countvectorizer-in-python\n",
    "\n",
    "5. Fonte da imagem do sapo: https://pixabay.com/pt/photos/sapo-cinema-pipoca-engra%c3%a7ado-1672887/\n",
    "6. Fonte dos gifs: https://giphy.com/"
   ]
  }
 ],
 "metadata": {
  "kernelspec": {
   "display_name": "Python 3",
   "language": "python",
   "name": "python3"
  },
  "language_info": {
   "codemirror_mode": {
    "name": "ipython",
    "version": 3
   },
   "file_extension": ".py",
   "mimetype": "text/x-python",
   "name": "python",
   "nbconvert_exporter": "python",
   "pygments_lexer": "ipython3",
   "version": "3.8.8"
  },
  "widgets": {
   "application/vnd.jupyter.widget-state+json": {
    "state": {},
    "version_major": 2,
    "version_minor": 0
   }
  }
 },
 "nbformat": 4,
 "nbformat_minor": 5
}
